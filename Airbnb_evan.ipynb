{
 "cells": [
  {
   "cell_type": "markdown",
   "metadata": {},
   "source": [
    "# Bay Area, CA - Airbnb Data\n"
   ]
  },
  {
   "cell_type": "markdown",
   "metadata": {},
   "source": [
    "## Context\n",
    "\n",
    "Since its inception in 2008, Airbnb has disrupted the hospitality industry by allowing almost anyone to rent out a spare room and host travelers looking for an overnight stay. \n",
    "\n",
    "While Airbnb has publicly available data from many locations, **Santa Clara County is of particular interest as it is one of the major counties in the Bay Area and home to many prominent tech companies and startups in the Silicon Valley.**\n",
    "As such, home prices and cost of living are exceptionally high in this area, as one will see in the data.\n",
    "\n",
    "\n",
    "## Content\n",
    "\n",
    "All data is publicly available under the Creative Commons \"Public Domain Dedication\" license and has been updated as of June 12th, 2020.Provided are metrics that are publicly visible for each listing (e.g. name, description, price, reviews, etc.), but the dataset contains some Airbnb's internal metrics as well (review score accuracy, host acceptance rate, etc.).\n",
    "\n",
    "## Acknowledgements\n",
    "\n",
    "Acknowledgments go to Airbnb for their publicly released datasets that are available at this website.\n",
    "\n",
    "\n"
   ]
  },
  {
   "cell_type": "markdown",
   "metadata": {},
   "source": [
    "## Inspiration & ideas:\n",
    "\n",
    "1. Create a price-suggestion model for new Airbnb hosts who might not know the value of their listing.\n",
    "    - Word cloud\n",
    "2. Can we predict the rating of an Airbnb listing utilizing **NLP** of the description columns?How have Airbnb\n",
    "3. prices changed over time? Are prices seasonal?\n",
    "   - Time series analysis?\n",
    "4. Which areas in the Santa Clara County are most \"popular\"?\n",
    "   - Region analysis\n",
    "5. Which features of an Airbnb listing are important to add to its perceived value?\n",
    "   - Feature analysis,PCA\n",
    "   - Correlation analysis\n",
    "   "
   ]
  },
  {
   "cell_type": "markdown",
   "metadata": {},
   "source": [
    "## Import  libraries and data"
   ]
  },
  {
   "cell_type": "code",
   "execution_count": 60,
   "metadata": {},
   "outputs": [],
   "source": [
    "import pandas as pd\n",
    "import numpy as np\n",
    "import matplotlib.pyplot as plt\n",
    "import seaborn as sns"
   ]
  },
  {
   "cell_type": "code",
   "execution_count": 61,
   "metadata": {},
   "outputs": [
    {
     "data": {
      "text/html": [
       "<div>\n",
       "<style scoped>\n",
       "    .dataframe tbody tr th:only-of-type {\n",
       "        vertical-align: middle;\n",
       "    }\n",
       "\n",
       "    .dataframe tbody tr th {\n",
       "        vertical-align: top;\n",
       "    }\n",
       "\n",
       "    .dataframe thead th {\n",
       "        text-align: right;\n",
       "    }\n",
       "</style>\n",
       "<table border=\"1\" class=\"dataframe\">\n",
       "  <thead>\n",
       "    <tr style=\"text-align: right;\">\n",
       "      <th></th>\n",
       "      <th>id</th>\n",
       "      <th>listing_url</th>\n",
       "      <th>scrape_id</th>\n",
       "      <th>last_scraped</th>\n",
       "      <th>name</th>\n",
       "      <th>summary</th>\n",
       "      <th>space</th>\n",
       "      <th>description</th>\n",
       "      <th>experiences_offered</th>\n",
       "      <th>neighborhood_overview</th>\n",
       "      <th>...</th>\n",
       "      <th>instant_bookable</th>\n",
       "      <th>is_business_travel_ready</th>\n",
       "      <th>cancellation_policy</th>\n",
       "      <th>require_guest_profile_picture</th>\n",
       "      <th>require_guest_phone_verification</th>\n",
       "      <th>calculated_host_listings_count</th>\n",
       "      <th>calculated_host_listings_count_entire_homes</th>\n",
       "      <th>calculated_host_listings_count_private_rooms</th>\n",
       "      <th>calculated_host_listings_count_shared_rooms</th>\n",
       "      <th>reviews_per_month</th>\n",
       "    </tr>\n",
       "  </thead>\n",
       "  <tbody>\n",
       "    <tr>\n",
       "      <th>0</th>\n",
       "      <td>4952</td>\n",
       "      <td>https://www.airbnb.com/rooms/4952</td>\n",
       "      <td>20200530151957</td>\n",
       "      <td>2020-05-30</td>\n",
       "      <td>Butterfly Inn - Graceful Living !</td>\n",
       "      <td>Lovely garden setting in a serene and art-fill...</td>\n",
       "      <td>Very comfortable Queen bed and small desk in b...</td>\n",
       "      <td>Lovely garden setting in a serene and art-fill...</td>\n",
       "      <td>none</td>\n",
       "      <td>Located in Professorville, Palo Alto, one of t...</td>\n",
       "      <td>...</td>\n",
       "      <td>f</td>\n",
       "      <td>f</td>\n",
       "      <td>moderate</td>\n",
       "      <td>f</td>\n",
       "      <td>f</td>\n",
       "      <td>5</td>\n",
       "      <td>0</td>\n",
       "      <td>5</td>\n",
       "      <td>0</td>\n",
       "      <td>0.57</td>\n",
       "    </tr>\n",
       "    <tr>\n",
       "      <th>1</th>\n",
       "      <td>11464</td>\n",
       "      <td>https://www.airbnb.com/rooms/11464</td>\n",
       "      <td>20200530151957</td>\n",
       "      <td>2020-05-31</td>\n",
       "      <td>Deluxe Private Studio-custom int.</td>\n",
       "      <td>Custom built Studio with exquisite design. Rea...</td>\n",
       "      <td>Description A favorite for international corpo...</td>\n",
       "      <td>Custom built Studio with exquisite design. Rea...</td>\n",
       "      <td>none</td>\n",
       "      <td>10 min. to Lucky's and Starbucks at El Camino ...</td>\n",
       "      <td>...</td>\n",
       "      <td>f</td>\n",
       "      <td>f</td>\n",
       "      <td>moderate</td>\n",
       "      <td>f</td>\n",
       "      <td>t</td>\n",
       "      <td>12</td>\n",
       "      <td>12</td>\n",
       "      <td>0</td>\n",
       "      <td>0</td>\n",
       "      <td>0.08</td>\n",
       "    </tr>\n",
       "    <tr>\n",
       "      <th>2</th>\n",
       "      <td>17884</td>\n",
       "      <td>https://www.airbnb.com/rooms/17884</td>\n",
       "      <td>20200530151957</td>\n",
       "      <td>2020-05-31</td>\n",
       "      <td>Silicon Valley Suite</td>\n",
       "      <td>A guest suite for one or two, in a house in a ...</td>\n",
       "      <td>This is a private suite at the rear of a house...</td>\n",
       "      <td>A guest suite for one or two, in a house in a ...</td>\n",
       "      <td>none</td>\n",
       "      <td>This is a very quiet family neighborhood, but ...</td>\n",
       "      <td>...</td>\n",
       "      <td>f</td>\n",
       "      <td>f</td>\n",
       "      <td>strict_14_with_grace_period</td>\n",
       "      <td>f</td>\n",
       "      <td>f</td>\n",
       "      <td>2</td>\n",
       "      <td>2</td>\n",
       "      <td>0</td>\n",
       "      <td>0</td>\n",
       "      <td>0.11</td>\n",
       "    </tr>\n",
       "    <tr>\n",
       "      <th>3</th>\n",
       "      <td>21373</td>\n",
       "      <td>https://www.airbnb.com/rooms/21373</td>\n",
       "      <td>20200530151957</td>\n",
       "      <td>2020-05-30</td>\n",
       "      <td>Bonsai Garden Inn in Professorville</td>\n",
       "      <td>Room  in gracious home with beautiful garden. ...</td>\n",
       "      <td>Bright, garden-facing room in beautiful home. ...</td>\n",
       "      <td>Room  in gracious home with beautiful garden. ...</td>\n",
       "      <td>none</td>\n",
       "      <td>This room is in an ultra convenient location i...</td>\n",
       "      <td>...</td>\n",
       "      <td>f</td>\n",
       "      <td>f</td>\n",
       "      <td>moderate</td>\n",
       "      <td>f</td>\n",
       "      <td>f</td>\n",
       "      <td>5</td>\n",
       "      <td>0</td>\n",
       "      <td>5</td>\n",
       "      <td>0</td>\n",
       "      <td>2.17</td>\n",
       "    </tr>\n",
       "    <tr>\n",
       "      <th>4</th>\n",
       "      <td>37512</td>\n",
       "      <td>https://www.airbnb.com/rooms/37512</td>\n",
       "      <td>20200530151957</td>\n",
       "      <td>2020-05-31</td>\n",
       "      <td>Private  room - Parking 3 carport</td>\n",
       "      <td>We live in a safe community close to public tr...</td>\n",
       "      <td>I have a really nice room in a quiet neighborh...</td>\n",
       "      <td>We live in a safe community close to public tr...</td>\n",
       "      <td>none</td>\n",
       "      <td>Our community is a safe environment and at nig...</td>\n",
       "      <td>...</td>\n",
       "      <td>f</td>\n",
       "      <td>f</td>\n",
       "      <td>moderate</td>\n",
       "      <td>t</td>\n",
       "      <td>t</td>\n",
       "      <td>2</td>\n",
       "      <td>0</td>\n",
       "      <td>2</td>\n",
       "      <td>0</td>\n",
       "      <td>1.53</td>\n",
       "    </tr>\n",
       "  </tbody>\n",
       "</table>\n",
       "<p>5 rows × 106 columns</p>\n",
       "</div>"
      ],
      "text/plain": [
       "      id                         listing_url       scrape_id last_scraped  \\\n",
       "0   4952   https://www.airbnb.com/rooms/4952  20200530151957   2020-05-30   \n",
       "1  11464  https://www.airbnb.com/rooms/11464  20200530151957   2020-05-31   \n",
       "2  17884  https://www.airbnb.com/rooms/17884  20200530151957   2020-05-31   \n",
       "3  21373  https://www.airbnb.com/rooms/21373  20200530151957   2020-05-30   \n",
       "4  37512  https://www.airbnb.com/rooms/37512  20200530151957   2020-05-31   \n",
       "\n",
       "                                  name  \\\n",
       "0    Butterfly Inn - Graceful Living !   \n",
       "1    Deluxe Private Studio-custom int.   \n",
       "2                 Silicon Valley Suite   \n",
       "3  Bonsai Garden Inn in Professorville   \n",
       "4    Private  room - Parking 3 carport   \n",
       "\n",
       "                                             summary  \\\n",
       "0  Lovely garden setting in a serene and art-fill...   \n",
       "1  Custom built Studio with exquisite design. Rea...   \n",
       "2  A guest suite for one or two, in a house in a ...   \n",
       "3  Room  in gracious home with beautiful garden. ...   \n",
       "4  We live in a safe community close to public tr...   \n",
       "\n",
       "                                               space  \\\n",
       "0  Very comfortable Queen bed and small desk in b...   \n",
       "1  Description A favorite for international corpo...   \n",
       "2  This is a private suite at the rear of a house...   \n",
       "3  Bright, garden-facing room in beautiful home. ...   \n",
       "4  I have a really nice room in a quiet neighborh...   \n",
       "\n",
       "                                         description experiences_offered  \\\n",
       "0  Lovely garden setting in a serene and art-fill...                none   \n",
       "1  Custom built Studio with exquisite design. Rea...                none   \n",
       "2  A guest suite for one or two, in a house in a ...                none   \n",
       "3  Room  in gracious home with beautiful garden. ...                none   \n",
       "4  We live in a safe community close to public tr...                none   \n",
       "\n",
       "                               neighborhood_overview  ... instant_bookable  \\\n",
       "0  Located in Professorville, Palo Alto, one of t...  ...                f   \n",
       "1  10 min. to Lucky's and Starbucks at El Camino ...  ...                f   \n",
       "2  This is a very quiet family neighborhood, but ...  ...                f   \n",
       "3  This room is in an ultra convenient location i...  ...                f   \n",
       "4  Our community is a safe environment and at nig...  ...                f   \n",
       "\n",
       "  is_business_travel_ready          cancellation_policy  \\\n",
       "0                        f                     moderate   \n",
       "1                        f                     moderate   \n",
       "2                        f  strict_14_with_grace_period   \n",
       "3                        f                     moderate   \n",
       "4                        f                     moderate   \n",
       "\n",
       "  require_guest_profile_picture require_guest_phone_verification  \\\n",
       "0                             f                                f   \n",
       "1                             f                                t   \n",
       "2                             f                                f   \n",
       "3                             f                                f   \n",
       "4                             t                                t   \n",
       "\n",
       "   calculated_host_listings_count  \\\n",
       "0                               5   \n",
       "1                              12   \n",
       "2                               2   \n",
       "3                               5   \n",
       "4                               2   \n",
       "\n",
       "   calculated_host_listings_count_entire_homes  \\\n",
       "0                                            0   \n",
       "1                                           12   \n",
       "2                                            2   \n",
       "3                                            0   \n",
       "4                                            0   \n",
       "\n",
       "  calculated_host_listings_count_private_rooms  \\\n",
       "0                                            5   \n",
       "1                                            0   \n",
       "2                                            0   \n",
       "3                                            5   \n",
       "4                                            2   \n",
       "\n",
       "   calculated_host_listings_count_shared_rooms  reviews_per_month  \n",
       "0                                            0               0.57  \n",
       "1                                            0               0.08  \n",
       "2                                            0               0.11  \n",
       "3                                            0               2.17  \n",
       "4                                            0               1.53  \n",
       "\n",
       "[5 rows x 106 columns]"
      ]
     },
     "execution_count": 61,
     "metadata": {},
     "output_type": "execute_result"
    }
   ],
   "source": [
    "data = pd.read_csv('./data/Airbnb_Listings.csv')\n",
    "data.head()"
   ]
  },
  {
   "cell_type": "code",
   "execution_count": 62,
   "metadata": {},
   "outputs": [
    {
     "data": {
      "text/html": [
       "<div>\n",
       "<style scoped>\n",
       "    .dataframe tbody tr th:only-of-type {\n",
       "        vertical-align: middle;\n",
       "    }\n",
       "\n",
       "    .dataframe tbody tr th {\n",
       "        vertical-align: top;\n",
       "    }\n",
       "\n",
       "    .dataframe thead th {\n",
       "        text-align: right;\n",
       "    }\n",
       "</style>\n",
       "<table border=\"1\" class=\"dataframe\">\n",
       "  <thead>\n",
       "    <tr style=\"text-align: right;\">\n",
       "      <th></th>\n",
       "      <th>listing_id</th>\n",
       "      <th>date</th>\n",
       "    </tr>\n",
       "  </thead>\n",
       "  <tbody>\n",
       "    <tr>\n",
       "      <th>0</th>\n",
       "      <td>4952</td>\n",
       "      <td>2009-08-02</td>\n",
       "    </tr>\n",
       "    <tr>\n",
       "      <th>1</th>\n",
       "      <td>4952</td>\n",
       "      <td>2009-09-04</td>\n",
       "    </tr>\n",
       "    <tr>\n",
       "      <th>2</th>\n",
       "      <td>4952</td>\n",
       "      <td>2009-10-16</td>\n",
       "    </tr>\n",
       "    <tr>\n",
       "      <th>3</th>\n",
       "      <td>4952</td>\n",
       "      <td>2009-12-10</td>\n",
       "    </tr>\n",
       "    <tr>\n",
       "      <th>4</th>\n",
       "      <td>4952</td>\n",
       "      <td>2010-06-08</td>\n",
       "    </tr>\n",
       "  </tbody>\n",
       "</table>\n",
       "</div>"
      ],
      "text/plain": [
       "   listing_id        date\n",
       "0        4952  2009-08-02\n",
       "1        4952  2009-09-04\n",
       "2        4952  2009-10-16\n",
       "3        4952  2009-12-10\n",
       "4        4952  2010-06-08"
      ]
     },
     "execution_count": 62,
     "metadata": {},
     "output_type": "execute_result"
    }
   ],
   "source": [
    "reviews = pd.read_csv('./data/reviews.csv')\n",
    "reviews.head()"
   ]
  },
  {
   "cell_type": "code",
   "execution_count": 63,
   "metadata": {},
   "outputs": [
    {
     "data": {
      "text/plain": [
       "5795"
      ]
     },
     "execution_count": 63,
     "metadata": {},
     "output_type": "execute_result"
    }
   ],
   "source": [
    "reviews['listing_id'].nunique()"
   ]
  },
  {
   "cell_type": "code",
   "execution_count": 64,
   "metadata": {},
   "outputs": [
    {
     "data": {
      "text/plain": [
       "(16, 2)"
      ]
     },
     "execution_count": 64,
     "metadata": {},
     "output_type": "execute_result"
    }
   ],
   "source": [
    "neighbors = pd.read_csv('./data/neighbourhoods.csv')\n",
    "neighbors.shape"
   ]
  },
  {
   "cell_type": "code",
   "execution_count": 65,
   "metadata": {},
   "outputs": [
    {
     "data": {
      "text/html": [
       "<div>\n",
       "<style scoped>\n",
       "    .dataframe tbody tr th:only-of-type {\n",
       "        vertical-align: middle;\n",
       "    }\n",
       "\n",
       "    .dataframe tbody tr th {\n",
       "        vertical-align: top;\n",
       "    }\n",
       "\n",
       "    .dataframe thead th {\n",
       "        text-align: right;\n",
       "    }\n",
       "</style>\n",
       "<table border=\"1\" class=\"dataframe\">\n",
       "  <thead>\n",
       "    <tr style=\"text-align: right;\">\n",
       "      <th></th>\n",
       "      <th>neighbourhood_group</th>\n",
       "      <th>neighbourhood</th>\n",
       "    </tr>\n",
       "  </thead>\n",
       "  <tbody>\n",
       "    <tr>\n",
       "      <th>0</th>\n",
       "      <td>NaN</td>\n",
       "      <td>Campbell</td>\n",
       "    </tr>\n",
       "    <tr>\n",
       "      <th>1</th>\n",
       "      <td>NaN</td>\n",
       "      <td>Cupertino</td>\n",
       "    </tr>\n",
       "    <tr>\n",
       "      <th>2</th>\n",
       "      <td>NaN</td>\n",
       "      <td>Gilroy</td>\n",
       "    </tr>\n",
       "    <tr>\n",
       "      <th>3</th>\n",
       "      <td>NaN</td>\n",
       "      <td>Los Altos</td>\n",
       "    </tr>\n",
       "    <tr>\n",
       "      <th>4</th>\n",
       "      <td>NaN</td>\n",
       "      <td>Los Altos Hills</td>\n",
       "    </tr>\n",
       "    <tr>\n",
       "      <th>5</th>\n",
       "      <td>NaN</td>\n",
       "      <td>Los Gatos</td>\n",
       "    </tr>\n",
       "    <tr>\n",
       "      <th>6</th>\n",
       "      <td>NaN</td>\n",
       "      <td>Milpitas</td>\n",
       "    </tr>\n",
       "    <tr>\n",
       "      <th>7</th>\n",
       "      <td>NaN</td>\n",
       "      <td>Monte Sereno</td>\n",
       "    </tr>\n",
       "    <tr>\n",
       "      <th>8</th>\n",
       "      <td>NaN</td>\n",
       "      <td>Morgan Hill</td>\n",
       "    </tr>\n",
       "    <tr>\n",
       "      <th>9</th>\n",
       "      <td>NaN</td>\n",
       "      <td>Mountain View</td>\n",
       "    </tr>\n",
       "    <tr>\n",
       "      <th>10</th>\n",
       "      <td>NaN</td>\n",
       "      <td>Palo Alto</td>\n",
       "    </tr>\n",
       "    <tr>\n",
       "      <th>11</th>\n",
       "      <td>NaN</td>\n",
       "      <td>San Jose</td>\n",
       "    </tr>\n",
       "    <tr>\n",
       "      <th>12</th>\n",
       "      <td>NaN</td>\n",
       "      <td>Santa Clara</td>\n",
       "    </tr>\n",
       "    <tr>\n",
       "      <th>13</th>\n",
       "      <td>NaN</td>\n",
       "      <td>Saratoga</td>\n",
       "    </tr>\n",
       "    <tr>\n",
       "      <th>14</th>\n",
       "      <td>NaN</td>\n",
       "      <td>Sunnyvale</td>\n",
       "    </tr>\n",
       "    <tr>\n",
       "      <th>15</th>\n",
       "      <td>NaN</td>\n",
       "      <td>Unincorporated Areas</td>\n",
       "    </tr>\n",
       "  </tbody>\n",
       "</table>\n",
       "</div>"
      ],
      "text/plain": [
       "    neighbourhood_group         neighbourhood\n",
       "0                   NaN              Campbell\n",
       "1                   NaN             Cupertino\n",
       "2                   NaN                Gilroy\n",
       "3                   NaN             Los Altos\n",
       "4                   NaN       Los Altos Hills\n",
       "5                   NaN             Los Gatos\n",
       "6                   NaN              Milpitas\n",
       "7                   NaN          Monte Sereno\n",
       "8                   NaN           Morgan Hill\n",
       "9                   NaN         Mountain View\n",
       "10                  NaN             Palo Alto\n",
       "11                  NaN              San Jose\n",
       "12                  NaN           Santa Clara\n",
       "13                  NaN              Saratoga\n",
       "14                  NaN             Sunnyvale\n",
       "15                  NaN  Unincorporated Areas"
      ]
     },
     "execution_count": 65,
     "metadata": {},
     "output_type": "execute_result"
    }
   ],
   "source": [
    "neighbors"
   ]
  },
  {
   "cell_type": "code",
   "execution_count": 66,
   "metadata": {},
   "outputs": [
    {
     "data": {
      "text/plain": [
       "7221"
      ]
     },
     "execution_count": 66,
     "metadata": {},
     "output_type": "execute_result"
    }
   ],
   "source": [
    "data['id'].nunique()"
   ]
  },
  {
   "cell_type": "code",
   "execution_count": 67,
   "metadata": {},
   "outputs": [
    {
     "data": {
      "text/plain": [
       "(7221, 106)"
      ]
     },
     "execution_count": 67,
     "metadata": {},
     "output_type": "execute_result"
    }
   ],
   "source": [
    "data.shape"
   ]
  },
  {
   "cell_type": "code",
   "execution_count": 68,
   "metadata": {},
   "outputs": [
    {
     "data": {
      "text/plain": [
       "<bound method DataFrame.info of             id                            listing_url       scrape_id  \\\n",
       "0         4952      https://www.airbnb.com/rooms/4952  20200530151957   \n",
       "1        11464     https://www.airbnb.com/rooms/11464  20200530151957   \n",
       "2        17884     https://www.airbnb.com/rooms/17884  20200530151957   \n",
       "3        21373     https://www.airbnb.com/rooms/21373  20200530151957   \n",
       "4        37512     https://www.airbnb.com/rooms/37512  20200530151957   \n",
       "...        ...                                    ...             ...   \n",
       "7216  43567384  https://www.airbnb.com/rooms/43567384  20200530151957   \n",
       "7217  43568844  https://www.airbnb.com/rooms/43568844  20200530151957   \n",
       "7218  43579879  https://www.airbnb.com/rooms/43579879  20200530151957   \n",
       "7219  43580120  https://www.airbnb.com/rooms/43580120  20200530151957   \n",
       "7220  43591340  https://www.airbnb.com/rooms/43591340  20200530151957   \n",
       "\n",
       "     last_scraped                                              name  \\\n",
       "0      2020-05-30                 Butterfly Inn - Graceful Living !   \n",
       "1      2020-05-31                 Deluxe Private Studio-custom int.   \n",
       "2      2020-05-31                              Silicon Valley Suite   \n",
       "3      2020-05-30               Bonsai Garden Inn in Professorville   \n",
       "4      2020-05-31                 Private  room - Parking 3 carport   \n",
       "...           ...                                               ...   \n",
       "7216   2020-05-31          Clean & Cozy Studio Naglee Park San Jose   \n",
       "7217   2020-05-31  Sophisticated, elegant, remodeled and furnished.   \n",
       "7218   2020-05-31                           Sunny room in Sunnyvale   \n",
       "7219   2020-05-30                         Affordable Rose Glen Home   \n",
       "7220   2020-05-31                             Cozy San Jose Two Bed   \n",
       "\n",
       "                                                summary  \\\n",
       "0     Lovely garden setting in a serene and art-fill...   \n",
       "1     Custom built Studio with exquisite design. Rea...   \n",
       "2     A guest suite for one or two, in a house in a ...   \n",
       "3     Room  in gracious home with beautiful garden. ...   \n",
       "4     We live in a safe community close to public tr...   \n",
       "...                                                 ...   \n",
       "7216  Clean and Cozy Studio in the heart of beautifu...   \n",
       "7217  Living Room Furniture: L-shape sopha with coff...   \n",
       "7218  Sunny room in a single family house of young p...   \n",
       "7219  Come stay in a comfortable two story home in W...   \n",
       "7220  Beautifully recently remodeled San Jose two be...   \n",
       "\n",
       "                                                  space  \\\n",
       "0     Very comfortable Queen bed and small desk in b...   \n",
       "1     Description A favorite for international corpo...   \n",
       "2     This is a private suite at the rear of a house...   \n",
       "3     Bright, garden-facing room in beautiful home. ...   \n",
       "4     I have a really nice room in a quiet neighborh...   \n",
       "...                                                 ...   \n",
       "7216  Stay at this clean and affordable studio with ...   \n",
       "7217  Sophisticated, elegant, spacious, completely r...   \n",
       "7218                                                NaN   \n",
       "7219  -no smoking or drugs allowed on the property -...   \n",
       "7220  Close to fabulous local hikes (Big Basin State...   \n",
       "\n",
       "                                            description experiences_offered  \\\n",
       "0     Lovely garden setting in a serene and art-fill...                none   \n",
       "1     Custom built Studio with exquisite design. Rea...                none   \n",
       "2     A guest suite for one or two, in a house in a ...                none   \n",
       "3     Room  in gracious home with beautiful garden. ...                none   \n",
       "4     We live in a safe community close to public tr...                none   \n",
       "...                                                 ...                 ...   \n",
       "7216  Clean and Cozy Studio in the heart of beautifu...                none   \n",
       "7217  Living Room Furniture: L-shape sopha with coff...                none   \n",
       "7218  Sunny room in a single family house of young p...                none   \n",
       "7219  Come stay in a comfortable two story home in W...                none   \n",
       "7220  Beautifully recently remodeled San Jose two be...                none   \n",
       "\n",
       "                                  neighborhood_overview  ... instant_bookable  \\\n",
       "0     Located in Professorville, Palo Alto, one of t...  ...                f   \n",
       "1     10 min. to Lucky's and Starbucks at El Camino ...  ...                f   \n",
       "2     This is a very quiet family neighborhood, but ...  ...                f   \n",
       "3     This room is in an ultra convenient location i...  ...                f   \n",
       "4     Our community is a safe environment and at nig...  ...                f   \n",
       "...                                                 ...  ...              ...   \n",
       "7216  We are walking distance to SJUC and all the sh...  ...                f   \n",
       "7217  Central location for Silicon Valley, 1.5 ml fr...  ...                f   \n",
       "7218  in the heart of the Silicon Valley on a quiet ...  ...                t   \n",
       "7219  Rose Glen is a quiet, residential neighborhood...  ...                f   \n",
       "7220                                                NaN  ...                t   \n",
       "\n",
       "     is_business_travel_ready          cancellation_policy  \\\n",
       "0                           f                     moderate   \n",
       "1                           f                     moderate   \n",
       "2                           f  strict_14_with_grace_period   \n",
       "3                           f                     moderate   \n",
       "4                           f                     moderate   \n",
       "...                       ...                          ...   \n",
       "7216                        f                     moderate   \n",
       "7217                        f  strict_14_with_grace_period   \n",
       "7218                        f                     flexible   \n",
       "7219                        f                     moderate   \n",
       "7220                        f  strict_14_with_grace_period   \n",
       "\n",
       "     require_guest_profile_picture require_guest_phone_verification  \\\n",
       "0                                f                                f   \n",
       "1                                f                                t   \n",
       "2                                f                                f   \n",
       "3                                f                                f   \n",
       "4                                t                                t   \n",
       "...                            ...                              ...   \n",
       "7216                             f                                f   \n",
       "7217                             f                                f   \n",
       "7218                             f                                f   \n",
       "7219                             f                                f   \n",
       "7220                             f                                f   \n",
       "\n",
       "      calculated_host_listings_count  \\\n",
       "0                                  5   \n",
       "1                                 12   \n",
       "2                                  2   \n",
       "3                                  5   \n",
       "4                                  2   \n",
       "...                              ...   \n",
       "7216                               2   \n",
       "7217                               1   \n",
       "7218                               1   \n",
       "7219                               1   \n",
       "7220                              21   \n",
       "\n",
       "      calculated_host_listings_count_entire_homes  \\\n",
       "0                                               0   \n",
       "1                                              12   \n",
       "2                                               2   \n",
       "3                                               0   \n",
       "4                                               0   \n",
       "...                                           ...   \n",
       "7216                                            2   \n",
       "7217                                            1   \n",
       "7218                                            0   \n",
       "7219                                            0   \n",
       "7220                                           19   \n",
       "\n",
       "     calculated_host_listings_count_private_rooms  \\\n",
       "0                                               5   \n",
       "1                                               0   \n",
       "2                                               0   \n",
       "3                                               5   \n",
       "4                                               2   \n",
       "...                                           ...   \n",
       "7216                                            0   \n",
       "7217                                            0   \n",
       "7218                                            1   \n",
       "7219                                            1   \n",
       "7220                                            2   \n",
       "\n",
       "      calculated_host_listings_count_shared_rooms  reviews_per_month  \n",
       "0                                               0               0.57  \n",
       "1                                               0               0.08  \n",
       "2                                               0               0.11  \n",
       "3                                               0               2.17  \n",
       "4                                               0               1.53  \n",
       "...                                           ...                ...  \n",
       "7216                                            0                NaN  \n",
       "7217                                            0                NaN  \n",
       "7218                                            0                NaN  \n",
       "7219                                            0                NaN  \n",
       "7220                                            0                NaN  \n",
       "\n",
       "[7221 rows x 106 columns]>"
      ]
     },
     "execution_count": 68,
     "metadata": {},
     "output_type": "execute_result"
    }
   ],
   "source": [
    "data.info"
   ]
  },
  {
   "cell_type": "code",
   "execution_count": 69,
   "metadata": {},
   "outputs": [
    {
     "data": {
      "text/plain": [
       "0                                                id\n",
       "1                                       listing_url\n",
       "2                                         scrape_id\n",
       "3                                      last_scraped\n",
       "4                                              name\n",
       "                           ...                     \n",
       "101                  calculated_host_listings_count\n",
       "102     calculated_host_listings_count_entire_homes\n",
       "103    calculated_host_listings_count_private_rooms\n",
       "104     calculated_host_listings_count_shared_rooms\n",
       "105                               reviews_per_month\n",
       "Length: 106, dtype: object"
      ]
     },
     "execution_count": 69,
     "metadata": {},
     "output_type": "execute_result"
    }
   ],
   "source": [
    "cols = pd.Series(data.columns)\n",
    "cols"
   ]
  },
  {
   "cell_type": "code",
   "execution_count": 70,
   "metadata": {},
   "outputs": [],
   "source": [
    "# find missing values and single value columns in data:\n",
    "del_cols = []\n",
    "\n",
    "for col in data.columns:\n",
    "    if data[col].isna().all():\n",
    "        del_cols.append(col)\n",
    "    elif data[col].nunique() == 1:\n",
    "        del_cols.append(col)"
   ]
  },
  {
   "cell_type": "code",
   "execution_count": 71,
   "metadata": {},
   "outputs": [
    {
     "data": {
      "text/plain": [
       "['scrape_id',\n",
       " 'experiences_offered',\n",
       " 'thumbnail_url',\n",
       " 'medium_url',\n",
       " 'xl_picture_url',\n",
       " 'neighbourhood_group_cleansed',\n",
       " 'country_code',\n",
       " 'country',\n",
       " 'has_availability',\n",
       " 'requires_license',\n",
       " 'license',\n",
       " 'is_business_travel_ready']"
      ]
     },
     "execution_count": 71,
     "metadata": {},
     "output_type": "execute_result"
    }
   ],
   "source": [
    "del_cols"
   ]
  },
  {
   "cell_type": "code",
   "execution_count": 72,
   "metadata": {},
   "outputs": [],
   "source": [
    "data = data.drop(del_cols, axis=1)"
   ]
  },
  {
   "cell_type": "code",
   "execution_count": 73,
   "metadata": {},
   "outputs": [
    {
     "data": {
      "text/plain": [
       "(7221, 94)"
      ]
     },
     "execution_count": 73,
     "metadata": {},
     "output_type": "execute_result"
    }
   ],
   "source": [
    "data.shape"
   ]
  },
  {
   "cell_type": "code",
   "execution_count": 74,
   "metadata": {},
   "outputs": [
    {
     "data": {
      "text/plain": [
       "0                                               id\n",
       "1                                      listing_url\n",
       "2                                     last_scraped\n",
       "3                                             name\n",
       "4                                          summary\n",
       "                          ...                     \n",
       "89                  calculated_host_listings_count\n",
       "90     calculated_host_listings_count_entire_homes\n",
       "91    calculated_host_listings_count_private_rooms\n",
       "92     calculated_host_listings_count_shared_rooms\n",
       "93                               reviews_per_month\n",
       "Length: 94, dtype: object"
      ]
     },
     "execution_count": 74,
     "metadata": {},
     "output_type": "execute_result"
    }
   ],
   "source": [
    "cols = pd.Series(data.columns)\n",
    "cols"
   ]
  },
  {
   "cell_type": "code",
   "execution_count": 75,
   "metadata": {},
   "outputs": [
    {
     "data": {
      "text/plain": [
       "0"
      ]
     },
     "execution_count": 75,
     "metadata": {},
     "output_type": "execute_result"
    }
   ],
   "source": [
    "data['id'].isna().sum()"
   ]
  },
  {
   "cell_type": "code",
   "execution_count": 76,
   "metadata": {},
   "outputs": [],
   "source": [
    "# delete url column:\n",
    "urls = [\n",
    "    'listing_url', 'picture_url', 'host_url', 'host_thumbnail_url',\n",
    "    'host_picture_url'\n",
    "]\n"
   ]
  },
  {
   "cell_type": "code",
   "execution_count": 77,
   "metadata": {},
   "outputs": [],
   "source": [
    "data = data.drop(urls, axis=1)"
   ]
  },
  {
   "cell_type": "code",
   "execution_count": 78,
   "metadata": {},
   "outputs": [],
   "source": [
    "cols = data.columns\n",
    "# cols"
   ]
  },
  {
   "cell_type": "code",
   "execution_count": 79,
   "metadata": {},
   "outputs": [
    {
     "data": {
      "text/plain": [
       "array(['Villa', 'Apartment', 'Guest suite', 'Bungalow', 'House',\n",
       "       'Guesthouse', 'Loft', 'Other', 'Condominium', 'Townhouse',\n",
       "       'Cottage', 'Bed and breakfast', 'Cabin', 'Camper/RV', 'Tiny house',\n",
       "       'Serviced apartment', 'Treehouse', 'Tent', 'Train', 'Barn', 'Yurt',\n",
       "       'Boutique hotel', 'Lighthouse', 'Farm stay', 'Campsite',\n",
       "       'Earth house', 'Aparthotel', 'Chalet'], dtype=object)"
      ]
     },
     "execution_count": 79,
     "metadata": {},
     "output_type": "execute_result"
    }
   ],
   "source": [
    "data['property_type'].unique()\n"
   ]
  },
  {
   "cell_type": "code",
   "execution_count": 80,
   "metadata": {},
   "outputs": [
    {
     "data": {
      "text/plain": [
       "House                 3715\n",
       "Apartment             1152\n",
       "Serviced apartment     504\n",
       "Townhouse              429\n",
       "Guest suite            363\n",
       "Guesthouse             318\n",
       "Condominium            303\n",
       "Villa                  129\n",
       "Bungalow               115\n",
       "Loft                    41\n",
       "Cottage                 29\n",
       "Camper/RV               27\n",
       "Boutique hotel          23\n",
       "Tiny house              16\n",
       "Other                   13\n",
       "Bed and breakfast       12\n",
       "Cabin                    7\n",
       "Farm stay                6\n",
       "Tent                     5\n",
       "Treehouse                3\n",
       "Yurt                     3\n",
       "Barn                     2\n",
       "Train                    1\n",
       "Lighthouse               1\n",
       "Campsite                 1\n",
       "Earth house              1\n",
       "Aparthotel               1\n",
       "Chalet                   1\n",
       "Name: property_type, dtype: int64"
      ]
     },
     "execution_count": 80,
     "metadata": {},
     "output_type": "execute_result"
    }
   ],
   "source": [
    "data['property_type'].value_counts()"
   ]
  },
  {
   "cell_type": "code",
   "execution_count": 81,
   "metadata": {},
   "outputs": [
    {
     "data": {
      "text/plain": [
       "array(['Private room', 'Entire home/apt', 'Shared room', 'Hotel room'],\n",
       "      dtype=object)"
      ]
     },
     "execution_count": 81,
     "metadata": {},
     "output_type": "execute_result"
    }
   ],
   "source": [
    "data['room_type'].unique()"
   ]
  },
  {
   "cell_type": "code",
   "execution_count": 82,
   "metadata": {},
   "outputs": [
    {
     "data": {
      "text/plain": [
       "array([ 1,  2,  3,  4,  5,  6,  7,  8,  9, 10, 11, 12, 13, 14, 15, 16])"
      ]
     },
     "execution_count": 82,
     "metadata": {},
     "output_type": "execute_result"
    }
   ],
   "source": [
    "accomo_type = data['accommodates'].unique()\n",
    "accomo_type.sort()\n",
    "accomo_type"
   ]
  },
  {
   "cell_type": "code",
   "execution_count": 83,
   "metadata": {},
   "outputs": [
    {
     "data": {
      "text/plain": [
       "array(['Real Bed', 'Futon', 'Pull-out Sofa', 'Airbed', 'Couch'],\n",
       "      dtype=object)"
      ]
     },
     "execution_count": 83,
     "metadata": {},
     "output_type": "execute_result"
    }
   ],
   "source": [
    "data['bed_type'].unique()"
   ]
  },
  {
   "cell_type": "code",
   "execution_count": 84,
   "metadata": {},
   "outputs": [
    {
     "data": {
      "text/plain": [
       "array([ 1,  2,  3,  4,  5,  6,  7,  8,  9, 10, 12, 13, 14, 15, 16])"
      ]
     },
     "execution_count": 84,
     "metadata": {},
     "output_type": "execute_result"
    }
   ],
   "source": [
    "guests_included = data['guests_included'].unique()\n",
    "guests_included.sort()\n",
    "guests_included"
   ]
  },
  {
   "cell_type": "code",
   "execution_count": 85,
   "metadata": {},
   "outputs": [],
   "source": [
    "compare_acc_guests = data['accommodates'] == data['guests_included']"
   ]
  },
  {
   "cell_type": "code",
   "execution_count": 86,
   "metadata": {},
   "outputs": [
    {
     "data": {
      "text/plain": [
       "0       False\n",
       "1        True\n",
       "2       False\n",
       "3        True\n",
       "4       False\n",
       "        ...  \n",
       "7216     True\n",
       "7217    False\n",
       "7218     True\n",
       "7219     True\n",
       "7220    False\n",
       "Length: 7221, dtype: bool"
      ]
     },
     "execution_count": 86,
     "metadata": {},
     "output_type": "execute_result"
    }
   ],
   "source": [
    "compare_acc_guests"
   ]
  },
  {
   "cell_type": "code",
   "execution_count": 87,
   "metadata": {},
   "outputs": [
    {
     "data": {
      "text/plain": [
       "array(['{\"PALO ALTO\"}', '{\"SANTA CLARA\"}', '{\"Mountain View\",\" CA\"}',\n",
       "       '{\"SAN JOSE\"}', '{Cupertino,\" CA\"}', '{Sunnyvale,\" CA\"}', nan,\n",
       "       '{Milpitas,\" CA\"}', '{\"Morgan Hill\",\" CA\"}', '{\"Los Gatos\",\" CA\"}',\n",
       "       '{\"San Benito County\",\" CA\"}'], dtype=object)"
      ]
     },
     "execution_count": 87,
     "metadata": {},
     "output_type": "execute_result"
    }
   ],
   "source": [
    "data['jurisdiction_names'].unique()"
   ]
  },
  {
   "cell_type": "code",
   "execution_count": 88,
   "metadata": {},
   "outputs": [
    {
     "data": {
      "text/plain": [
       "979"
      ]
     },
     "execution_count": 88,
     "metadata": {},
     "output_type": "execute_result"
    }
   ],
   "source": [
    "data['jurisdiction_names'].isna().sum()"
   ]
  },
  {
   "cell_type": "code",
   "execution_count": 89,
   "metadata": {},
   "outputs": [
    {
     "data": {
      "text/plain": [
       "array(['moderate', 'strict_14_with_grace_period', 'flexible',\n",
       "       'super_strict_60'], dtype=object)"
      ]
     },
     "execution_count": 89,
     "metadata": {},
     "output_type": "execute_result"
    }
   ],
   "source": [
    "data['cancellation_policy'].unique()"
   ]
  },
  {
   "cell_type": "code",
   "execution_count": 90,
   "metadata": {},
   "outputs": [
    {
     "data": {
      "text/plain": [
       "array(['{TV,\"Cable TV\",Internet,Wifi,Kitchen,Heating,Washer,Dryer,\"Smoke alarm\",\"Carbon monoxide alarm\",\"First aid kit\",\"Safety card\",\"Fire extinguisher\",Essentials,Shampoo,\"Lock on bedroom door\",Hangers,\"Hair dryer\",Iron,\"Laptop-friendly workspace\",\"translation missing: en.hosting_amenity_49\",\"translation missing: en.hosting_amenity_50\",\"Private entrance\",\"Hot water\",\"Bed linens\",\"Extra pillows and blankets\",Microwave,\"Coffee maker\",Refrigerator,Dishwasher,\"Dishes and silverware\",\"Cooking basics\",Oven,Stove,\"Patio or balcony\",\"Garden or backyard\",\"Long term stays allowed\",\"Host greets you\"}',\n",
       "       '{TV,\"Cable TV\",Internet,Wifi,\"Air conditioning\",Pool,Kitchen,\"Free parking on premises\",\"Pets allowed\",\"Pets live on this property\",Dog(s),Cat(s),\"Free street parking\",Heating,Washer,Dryer,\"Smoke alarm\",\"Carbon monoxide alarm\",\"Fire extinguisher\",Hangers,\"Hair dryer\",Iron,\"Laptop-friendly workspace\",\"Self check-in\",\"Building staff\",\"Hot water\",Microwave,\"Coffee maker\",Refrigerator,\"Dishes and silverware\",\"Cooking basics\",Oven,Stove,\"Single level home\"}',\n",
       "       '{TV,\"Cable TV\",Internet,Wifi,\"Air conditioning\",\"Free parking on premises\",\"Pets live on this property\",Dog(s),Cat(s),\"Free street parking\",Heating,Washer,Dryer,\"Smoke alarm\",\"Carbon monoxide alarm\",Essentials,Shampoo,\"Lock on bedroom door\",Hangers,\"Hair dryer\",Iron,\"Laptop-friendly workspace\",\"Self check-in\",Keypad,\"Hot water\",Microwave,Refrigerator,\"Dishes and silverware\",\"Luggage dropoff allowed\",\"Long term stays allowed\"}',\n",
       "       ...,\n",
       "       '{TV,Wifi,Kitchen,\"Free parking on premises\",Washer,Dryer,\"Smoke alarm\",\"Carbon monoxide alarm\",\"First aid kit\",\"Fire extinguisher\",Essentials,Shampoo,\"Lock on bedroom door\",Hangers,\"Hair dryer\",\"Laptop-friendly workspace\",\"Bed linens\",Microwave,\"Coffee maker\",Refrigerator,Dishwasher,\"Dishes and silverware\",\"Cooking basics\",Oven,Stove,\"Single level home\",\"Patio or balcony\",\"Garden or backyard\",\"Long term stays allowed\",\"Bread maker\"}',\n",
       "       '{TV,Wifi,\"Air conditioning\",Kitchen,\"Free parking on premises\",\"Indoor fireplace\",Heating,Washer,Dryer,\"Smoke alarm\",\"Carbon monoxide alarm\",\"Fire extinguisher\",Essentials,\"Lock on bedroom door\",Hangers,\"Laptop-friendly workspace\",\"Private entrance\"}',\n",
       "       '{TV,Wifi,\"Air conditioning\",Kitchen,\"Free parking on premises\",Heating,Washer,Dryer,\"Smoke alarm\",\"Carbon monoxide alarm\",Essentials,Shampoo,Hangers,\"Hair dryer\",Iron,\"Laptop-friendly workspace\",\"Self check-in\",Lockbox,\"Private entrance\",Microwave,\"Coffee maker\",Refrigerator,Dishwasher,\"Dishes and silverware\",\"Cooking basics\",Oven,Stove,\"Garden or backyard\"}'],\n",
       "      dtype=object)"
      ]
     },
     "execution_count": 90,
     "metadata": {},
     "output_type": "execute_result"
    }
   ],
   "source": [
    "data['amenities'].unique()"
   ]
  },
  {
   "cell_type": "code",
   "execution_count": 91,
   "metadata": {},
   "outputs": [
    {
     "data": {
      "text/plain": [
       "array(['Palo Alto', 'Santa Clara', 'Mountain View', 'San Jose',\n",
       "       'Cupertino', 'Sunnyvale', 'Campbell', 'Milpitas', 'Saratoga',\n",
       "       'Morgan Hill', 'Los Altos', 'Los Gatos', 'Menlo Park',\n",
       "       'Los Altos Hills', 'Monte Sereno', 'Hollister', 'Gilroy',\n",
       "       'San Jose ', 'San Martin', 'Stanford', 'Santa Clara County',\n",
       "       'Sunnyvale ', 'Palo Alto ', 'Milpitas ', 'Los Gatos ', 'san jose',\n",
       "       'Mountain View ', 'Danville ', nan, 'Campbell ', '洛斯阿尔托斯',\n",
       "       'santa clara', 'Fremont', '圣何塞', 'Watsonville'], dtype=object)"
      ]
     },
     "execution_count": 91,
     "metadata": {},
     "output_type": "execute_result"
    }
   ],
   "source": [
    "data['city'].unique()"
   ]
  },
  {
   "cell_type": "code",
   "execution_count": 92,
   "metadata": {},
   "outputs": [
    {
     "data": {
      "text/plain": [
       "array(['CA', 'Ca', 'ca', nan, 'California '], dtype=object)"
      ]
     },
     "execution_count": 92,
     "metadata": {},
     "output_type": "execute_result"
    }
   ],
   "source": [
    "data['state'].unique()"
   ]
  },
  {
   "cell_type": "code",
   "execution_count": 93,
   "metadata": {},
   "outputs": [
    {
     "data": {
      "text/plain": [
       "1"
      ]
     },
     "execution_count": 93,
     "metadata": {},
     "output_type": "execute_result"
    }
   ],
   "source": [
    "data['state'].isna().sum()"
   ]
  },
  {
   "cell_type": "code",
   "execution_count": 94,
   "metadata": {},
   "outputs": [
    {
     "data": {
      "text/plain": [
       "55"
      ]
     },
     "execution_count": 94,
     "metadata": {},
     "output_type": "execute_result"
    }
   ],
   "source": [
    "data['zipcode'].isna().sum()"
   ]
  },
  {
   "cell_type": "code",
   "execution_count": 95,
   "metadata": {},
   "outputs": [
    {
     "data": {
      "text/plain": [
       "89"
      ]
     },
     "execution_count": 95,
     "metadata": {},
     "output_type": "execute_result"
    }
   ],
   "source": [
    "len(data.columns)"
   ]
  },
  {
   "cell_type": "code",
   "execution_count": 96,
   "metadata": {},
   "outputs": [
    {
     "name": "stdout",
     "output_type": "stream",
     "text": [
      "('id', 7221)\n",
      "('last_scraped', 2)\n",
      "('name', 7078)\n",
      "('summary', 6052)\n",
      "('space', 4403)\n",
      "('description', 6440)\n",
      "('neighborhood_overview', 3509)\n",
      "('notes', 2747)\n",
      "('transit', 3200)\n",
      "('access', 3378)\n",
      "('interaction', 3166)\n",
      "('house_rules', 3718)\n",
      "('host_id', 3533)\n",
      "('host_name', 2103)\n",
      "('host_since', 2085)\n",
      "('host_location', 242)\n",
      "('host_about', 2030)\n",
      "('host_response_time', 5)\n",
      "('host_response_rate', 44)\n",
      "('host_acceptance_rate', 78)\n",
      "('host_is_superhost', 3)\n",
      "('host_neighbourhood', 145)\n",
      "('host_listings_count', 62)\n",
      "('host_total_listings_count', 62)\n",
      "('host_verifications', 240)\n",
      "('host_has_profile_pic', 3)\n",
      "('host_identity_verified', 3)\n",
      "('street', 37)\n",
      "('neighbourhood', 37)\n",
      "('neighbourhood_cleansed', 16)\n",
      "('city', 35)\n",
      "('state', 5)\n",
      "('zipcode', 83)\n",
      "('market', 5)\n",
      "('smart_location', 37)\n",
      "('latitude', 5882)\n",
      "('longitude', 6357)\n",
      "('is_location_exact', 2)\n",
      "('property_type', 28)\n",
      "('room_type', 4)\n",
      "('accommodates', 16)\n",
      "('bathrooms', 16)\n",
      "('bedrooms', 11)\n",
      "('beds', 21)\n",
      "('bed_type', 5)\n",
      "('amenities', 6396)\n",
      "('square_feet', 25)\n",
      "('price', 420)\n",
      "('weekly_price', 235)\n",
      "('monthly_price', 220)\n",
      "('security_deposit', 84)\n",
      "('cleaning_fee', 168)\n",
      "('guests_included', 15)\n",
      "('extra_people', 63)\n",
      "('minimum_nights', 54)\n",
      "('maximum_nights', 123)\n",
      "('minimum_minimum_nights', 56)\n",
      "('maximum_minimum_nights', 63)\n",
      "('minimum_maximum_nights', 108)\n",
      "('maximum_maximum_nights', 109)\n",
      "('minimum_nights_avg_ntm', 237)\n",
      "('maximum_nights_avg_ntm', 129)\n",
      "('calendar_updated', 74)\n",
      "('availability_30', 31)\n",
      "('availability_60', 61)\n",
      "('availability_90', 91)\n",
      "('availability_365', 361)\n",
      "('calendar_last_scraped', 2)\n",
      "('number_of_reviews', 288)\n",
      "('number_of_reviews_ltm', 108)\n",
      "('first_review', 1927)\n",
      "('last_review', 796)\n",
      "('review_scores_rating', 41)\n",
      "('review_scores_accuracy', 9)\n",
      "('review_scores_cleanliness', 9)\n",
      "('review_scores_checkin', 9)\n",
      "('review_scores_communication', 9)\n",
      "('review_scores_location', 8)\n",
      "('review_scores_value', 9)\n",
      "('jurisdiction_names', 11)\n",
      "('instant_bookable', 2)\n",
      "('cancellation_policy', 4)\n",
      "('require_guest_profile_picture', 2)\n",
      "('require_guest_phone_verification', 2)\n",
      "('calculated_host_listings_count', 35)\n",
      "('calculated_host_listings_count_entire_homes', 26)\n",
      "('calculated_host_listings_count_private_rooms', 20)\n",
      "('calculated_host_listings_count_shared_rooms', 15)\n",
      "('reviews_per_month', 648)\n"
     ]
    }
   ],
   "source": [
    "for col in data.columns:\n",
    "    list_unique = (col, len(data[col].unique()))\n",
    "    print(list_unique)"
   ]
  },
  {
   "cell_type": "code",
   "execution_count": 97,
   "metadata": {},
   "outputs": [
    {
     "name": "stdout",
     "output_type": "stream",
     "text": [
      "last_scraped\n",
      "host_is_superhost\n",
      "host_has_profile_pic\n",
      "host_identity_verified\n",
      "is_location_exact\n",
      "calendar_last_scraped\n",
      "instant_bookable\n",
      "require_guest_profile_picture\n",
      "require_guest_phone_verification\n"
     ]
    }
   ],
   "source": [
    "# find binary columns:\n",
    "for col in data.columns:\n",
    "    if data[col].nunique() == 2:\n",
    "        print(col)"
   ]
  },
  {
   "cell_type": "code",
   "execution_count": 98,
   "metadata": {},
   "outputs": [],
   "source": [
    "for col in data.columns:\n",
    "    if data[col].nunique() == 3:\n",
    "        print(col)"
   ]
  },
  {
   "cell_type": "code",
   "execution_count": 99,
   "metadata": {},
   "outputs": [
    {
     "name": "stdout",
     "output_type": "stream",
     "text": [
      "host_response_time\n",
      "state\n",
      "market\n",
      "room_type\n",
      "cancellation_policy\n"
     ]
    }
   ],
   "source": [
    "for col in data.columns:\n",
    "    if data[col].nunique() == 4:\n",
    "        print(col)"
   ]
  },
  {
   "cell_type": "code",
   "execution_count": 100,
   "metadata": {},
   "outputs": [
    {
     "name": "stdout",
     "output_type": "stream",
     "text": [
      "bed_type\n"
     ]
    }
   ],
   "source": [
    "for col in data.columns:\n",
    "    if data[col].nunique() == 5:\n",
    "        print(col)"
   ]
  },
  {
   "cell_type": "code",
   "execution_count": 101,
   "metadata": {},
   "outputs": [
    {
     "name": "stdout",
     "output_type": "stream",
     "text": [
      "last_scraped 2\n",
      "host_response_time 4\n",
      "host_is_superhost 2\n",
      "host_has_profile_pic 2\n",
      "host_identity_verified 2\n",
      "state 4\n",
      "market 4\n",
      "is_location_exact 2\n",
      "room_type 4\n",
      "bed_type 5\n",
      "calendar_last_scraped 2\n",
      "review_scores_accuracy 8\n",
      "review_scores_cleanliness 8\n",
      "review_scores_checkin 8\n",
      "review_scores_communication 8\n",
      "review_scores_location 7\n",
      "review_scores_value 8\n",
      "instant_bookable 2\n",
      "cancellation_policy 4\n",
      "require_guest_profile_picture 2\n",
      "require_guest_phone_verification 2\n"
     ]
    }
   ],
   "source": [
    "for col, n in zip(data.columns, data.nunique()):\n",
    "    if n <10 and n > 1:\n",
    "        print(col,n)"
   ]
  },
  {
   "cell_type": "code",
   "execution_count": 102,
   "metadata": {},
   "outputs": [],
   "source": [
    "data_null = data.isnull().sum()"
   ]
  },
  {
   "cell_type": "code",
   "execution_count": 103,
   "metadata": {},
   "outputs": [
    {
     "data": {
      "text/plain": [
       "square_feet               7192\n",
       "weekly_price              6647\n",
       "monthly_price             6629\n",
       "notes                     3529\n",
       "access                    3117\n",
       "                          ... \n",
       "maximum_minimum_nights       0\n",
       "minimum_maximum_nights       0\n",
       "maximum_maximum_nights       0\n",
       "minimum_nights_avg_ntm       0\n",
       "bed_type                     0\n",
       "Length: 89, dtype: int64"
      ]
     },
     "execution_count": 103,
     "metadata": {},
     "output_type": "execute_result"
    }
   ],
   "source": [
    "data_null.sort_values(ascending=False)"
   ]
  },
  {
   "cell_type": "code",
   "execution_count": 104,
   "metadata": {},
   "outputs": [],
   "source": [
    "data = data.drop(['square_feet', 'weekly_price', 'monthly_price'], axis=1)\n"
   ]
  },
  {
   "cell_type": "code",
   "execution_count": 105,
   "metadata": {},
   "outputs": [
    {
     "data": {
      "text/html": [
       "<div>\n",
       "<style scoped>\n",
       "    .dataframe tbody tr th:only-of-type {\n",
       "        vertical-align: middle;\n",
       "    }\n",
       "\n",
       "    .dataframe tbody tr th {\n",
       "        vertical-align: top;\n",
       "    }\n",
       "\n",
       "    .dataframe thead th {\n",
       "        text-align: right;\n",
       "    }\n",
       "</style>\n",
       "<table border=\"1\" class=\"dataframe\">\n",
       "  <thead>\n",
       "    <tr style=\"text-align: right;\">\n",
       "      <th></th>\n",
       "      <th>id</th>\n",
       "      <th>last_scraped</th>\n",
       "      <th>name</th>\n",
       "      <th>summary</th>\n",
       "      <th>space</th>\n",
       "      <th>description</th>\n",
       "      <th>neighborhood_overview</th>\n",
       "      <th>notes</th>\n",
       "      <th>transit</th>\n",
       "      <th>access</th>\n",
       "      <th>...</th>\n",
       "      <th>jurisdiction_names</th>\n",
       "      <th>instant_bookable</th>\n",
       "      <th>cancellation_policy</th>\n",
       "      <th>require_guest_profile_picture</th>\n",
       "      <th>require_guest_phone_verification</th>\n",
       "      <th>calculated_host_listings_count</th>\n",
       "      <th>calculated_host_listings_count_entire_homes</th>\n",
       "      <th>calculated_host_listings_count_private_rooms</th>\n",
       "      <th>calculated_host_listings_count_shared_rooms</th>\n",
       "      <th>reviews_per_month</th>\n",
       "    </tr>\n",
       "  </thead>\n",
       "  <tbody>\n",
       "    <tr>\n",
       "      <th>0</th>\n",
       "      <td>4952</td>\n",
       "      <td>2020-05-30</td>\n",
       "      <td>Butterfly Inn - Graceful Living !</td>\n",
       "      <td>Lovely garden setting in a serene and art-fill...</td>\n",
       "      <td>Very comfortable Queen bed and small desk in b...</td>\n",
       "      <td>Lovely garden setting in a serene and art-fill...</td>\n",
       "      <td>Located in Professorville, Palo Alto, one of t...</td>\n",
       "      <td>Housekeeping every Monday, leave your door ope...</td>\n",
       "      <td>Walking distance to Stanford University (30 mi...</td>\n",
       "      <td>Kitchen, laundry, family/TV room, garden, free...</td>\n",
       "      <td>...</td>\n",
       "      <td>{\"PALO ALTO\"}</td>\n",
       "      <td>f</td>\n",
       "      <td>moderate</td>\n",
       "      <td>f</td>\n",
       "      <td>f</td>\n",
       "      <td>5</td>\n",
       "      <td>0</td>\n",
       "      <td>5</td>\n",
       "      <td>0</td>\n",
       "      <td>0.57</td>\n",
       "    </tr>\n",
       "    <tr>\n",
       "      <th>1</th>\n",
       "      <td>11464</td>\n",
       "      <td>2020-05-31</td>\n",
       "      <td>Deluxe Private Studio-custom int.</td>\n",
       "      <td>Custom built Studio with exquisite design. Rea...</td>\n",
       "      <td>Description A favorite for international corpo...</td>\n",
       "      <td>Custom built Studio with exquisite design. Rea...</td>\n",
       "      <td>10 min. to Lucky's and Starbucks at El Camino ...</td>\n",
       "      <td>Pet Policy: - Well Behaved pet up to 25 lb. of...</td>\n",
       "      <td>Public transportation at Homestead and Pomeroy...</td>\n",
       "      <td>Complimentary Wifi-internet + Basic Cable</td>\n",
       "      <td>...</td>\n",
       "      <td>{\"SANTA CLARA\"}</td>\n",
       "      <td>f</td>\n",
       "      <td>moderate</td>\n",
       "      <td>f</td>\n",
       "      <td>t</td>\n",
       "      <td>12</td>\n",
       "      <td>12</td>\n",
       "      <td>0</td>\n",
       "      <td>0</td>\n",
       "      <td>0.08</td>\n",
       "    </tr>\n",
       "    <tr>\n",
       "      <th>2</th>\n",
       "      <td>17884</td>\n",
       "      <td>2020-05-31</td>\n",
       "      <td>Silicon Valley Suite</td>\n",
       "      <td>A guest suite for one or two, in a house in a ...</td>\n",
       "      <td>This is a private suite at the rear of a house...</td>\n",
       "      <td>A guest suite for one or two, in a house in a ...</td>\n",
       "      <td>This is a very quiet family neighborhood, but ...</td>\n",
       "      <td>I cannot accommodate cats, sorry. I can usuall...</td>\n",
       "      <td>The CalTrain station is in walking distance, a...</td>\n",
       "      <td>Private outdoor patio. Shared washer/dryer on ...</td>\n",
       "      <td>...</td>\n",
       "      <td>{\"Mountain View\",\" CA\"}</td>\n",
       "      <td>f</td>\n",
       "      <td>strict_14_with_grace_period</td>\n",
       "      <td>f</td>\n",
       "      <td>f</td>\n",
       "      <td>2</td>\n",
       "      <td>2</td>\n",
       "      <td>0</td>\n",
       "      <td>0</td>\n",
       "      <td>0.11</td>\n",
       "    </tr>\n",
       "    <tr>\n",
       "      <th>3</th>\n",
       "      <td>21373</td>\n",
       "      <td>2020-05-30</td>\n",
       "      <td>Bonsai Garden Inn in Professorville</td>\n",
       "      <td>Room  in gracious home with beautiful garden. ...</td>\n",
       "      <td>Bright, garden-facing room in beautiful home. ...</td>\n",
       "      <td>Room  in gracious home with beautiful garden. ...</td>\n",
       "      <td>This room is in an ultra convenient location i...</td>\n",
       "      <td>The family room has a flat panel tv and desk f...</td>\n",
       "      <td>The Stanford Shopping Center is 20 minutes wal...</td>\n",
       "      <td>Kitchen, Laundry, Garden, Family Room with TV,...</td>\n",
       "      <td>...</td>\n",
       "      <td>{\"PALO ALTO\"}</td>\n",
       "      <td>f</td>\n",
       "      <td>moderate</td>\n",
       "      <td>f</td>\n",
       "      <td>f</td>\n",
       "      <td>5</td>\n",
       "      <td>0</td>\n",
       "      <td>5</td>\n",
       "      <td>0</td>\n",
       "      <td>2.17</td>\n",
       "    </tr>\n",
       "    <tr>\n",
       "      <th>4</th>\n",
       "      <td>37512</td>\n",
       "      <td>2020-05-31</td>\n",
       "      <td>Private  room - Parking 3 carport</td>\n",
       "      <td>We live in a safe community close to public tr...</td>\n",
       "      <td>I have a really nice room in a quiet neighborh...</td>\n",
       "      <td>We live in a safe community close to public tr...</td>\n",
       "      <td>Our community is a safe environment and at nig...</td>\n",
       "      <td>Please remember that you are in my home and re...</td>\n",
       "      <td>We have a bus stop right outside our community...</td>\n",
       "      <td>The kitchen and all that it offers.  The laund...</td>\n",
       "      <td>...</td>\n",
       "      <td>{\"SAN JOSE\"}</td>\n",
       "      <td>f</td>\n",
       "      <td>moderate</td>\n",
       "      <td>t</td>\n",
       "      <td>t</td>\n",
       "      <td>2</td>\n",
       "      <td>0</td>\n",
       "      <td>2</td>\n",
       "      <td>0</td>\n",
       "      <td>1.53</td>\n",
       "    </tr>\n",
       "  </tbody>\n",
       "</table>\n",
       "<p>5 rows × 86 columns</p>\n",
       "</div>"
      ],
      "text/plain": [
       "      id last_scraped                                 name  \\\n",
       "0   4952   2020-05-30    Butterfly Inn - Graceful Living !   \n",
       "1  11464   2020-05-31    Deluxe Private Studio-custom int.   \n",
       "2  17884   2020-05-31                 Silicon Valley Suite   \n",
       "3  21373   2020-05-30  Bonsai Garden Inn in Professorville   \n",
       "4  37512   2020-05-31    Private  room - Parking 3 carport   \n",
       "\n",
       "                                             summary  \\\n",
       "0  Lovely garden setting in a serene and art-fill...   \n",
       "1  Custom built Studio with exquisite design. Rea...   \n",
       "2  A guest suite for one or two, in a house in a ...   \n",
       "3  Room  in gracious home with beautiful garden. ...   \n",
       "4  We live in a safe community close to public tr...   \n",
       "\n",
       "                                               space  \\\n",
       "0  Very comfortable Queen bed and small desk in b...   \n",
       "1  Description A favorite for international corpo...   \n",
       "2  This is a private suite at the rear of a house...   \n",
       "3  Bright, garden-facing room in beautiful home. ...   \n",
       "4  I have a really nice room in a quiet neighborh...   \n",
       "\n",
       "                                         description  \\\n",
       "0  Lovely garden setting in a serene and art-fill...   \n",
       "1  Custom built Studio with exquisite design. Rea...   \n",
       "2  A guest suite for one or two, in a house in a ...   \n",
       "3  Room  in gracious home with beautiful garden. ...   \n",
       "4  We live in a safe community close to public tr...   \n",
       "\n",
       "                               neighborhood_overview  \\\n",
       "0  Located in Professorville, Palo Alto, one of t...   \n",
       "1  10 min. to Lucky's and Starbucks at El Camino ...   \n",
       "2  This is a very quiet family neighborhood, but ...   \n",
       "3  This room is in an ultra convenient location i...   \n",
       "4  Our community is a safe environment and at nig...   \n",
       "\n",
       "                                               notes  \\\n",
       "0  Housekeeping every Monday, leave your door ope...   \n",
       "1  Pet Policy: - Well Behaved pet up to 25 lb. of...   \n",
       "2  I cannot accommodate cats, sorry. I can usuall...   \n",
       "3  The family room has a flat panel tv and desk f...   \n",
       "4  Please remember that you are in my home and re...   \n",
       "\n",
       "                                             transit  \\\n",
       "0  Walking distance to Stanford University (30 mi...   \n",
       "1  Public transportation at Homestead and Pomeroy...   \n",
       "2  The CalTrain station is in walking distance, a...   \n",
       "3  The Stanford Shopping Center is 20 minutes wal...   \n",
       "4  We have a bus stop right outside our community...   \n",
       "\n",
       "                                              access  ...  \\\n",
       "0  Kitchen, laundry, family/TV room, garden, free...  ...   \n",
       "1          Complimentary Wifi-internet + Basic Cable  ...   \n",
       "2  Private outdoor patio. Shared washer/dryer on ...  ...   \n",
       "3  Kitchen, Laundry, Garden, Family Room with TV,...  ...   \n",
       "4  The kitchen and all that it offers.  The laund...  ...   \n",
       "\n",
       "        jurisdiction_names instant_bookable          cancellation_policy  \\\n",
       "0            {\"PALO ALTO\"}                f                     moderate   \n",
       "1          {\"SANTA CLARA\"}                f                     moderate   \n",
       "2  {\"Mountain View\",\" CA\"}                f  strict_14_with_grace_period   \n",
       "3            {\"PALO ALTO\"}                f                     moderate   \n",
       "4             {\"SAN JOSE\"}                f                     moderate   \n",
       "\n",
       "  require_guest_profile_picture require_guest_phone_verification  \\\n",
       "0                             f                                f   \n",
       "1                             f                                t   \n",
       "2                             f                                f   \n",
       "3                             f                                f   \n",
       "4                             t                                t   \n",
       "\n",
       "  calculated_host_listings_count calculated_host_listings_count_entire_homes  \\\n",
       "0                              5                                           0   \n",
       "1                             12                                          12   \n",
       "2                              2                                           2   \n",
       "3                              5                                           0   \n",
       "4                              2                                           0   \n",
       "\n",
       "  calculated_host_listings_count_private_rooms  \\\n",
       "0                                            5   \n",
       "1                                            0   \n",
       "2                                            0   \n",
       "3                                            5   \n",
       "4                                            2   \n",
       "\n",
       "  calculated_host_listings_count_shared_rooms reviews_per_month  \n",
       "0                                           0              0.57  \n",
       "1                                           0              0.08  \n",
       "2                                           0              0.11  \n",
       "3                                           0              2.17  \n",
       "4                                           0              1.53  \n",
       "\n",
       "[5 rows x 86 columns]"
      ]
     },
     "execution_count": 105,
     "metadata": {},
     "output_type": "execute_result"
    }
   ],
   "source": [
    "data.head()"
   ]
  },
  {
   "cell_type": "markdown",
   "metadata": {},
   "source": [
    "What we got now:\n",
    "\n",
    "- Pre data cleaning\n",
    "- Neighbors does not match the neighbors in data\n",
    "  - sub data by region?\n",
    "- Location :  clean later\n",
    "  -  ('latitude', 5882)\n",
    "  -  ('longitude', 6357)\n",
    "\n",
    " "
   ]
  },
  {
   "cell_type": "code",
   "execution_count": 106,
   "metadata": {},
   "outputs": [],
   "source": [
    "# Calm down, can you do more data cleaning & preprocessing?"
   ]
  },
  {
   "cell_type": "markdown",
   "metadata": {},
   "source": [
    "## Fusion with reviews:"
   ]
  },
  {
   "cell_type": "code",
   "execution_count": 107,
   "metadata": {},
   "outputs": [],
   "source": [
    "rev_row = reviews['listing_id'].unique()"
   ]
  },
  {
   "cell_type": "code",
   "execution_count": 108,
   "metadata": {},
   "outputs": [
    {
     "data": {
      "text/html": [
       "<div>\n",
       "<style scoped>\n",
       "    .dataframe tbody tr th:only-of-type {\n",
       "        vertical-align: middle;\n",
       "    }\n",
       "\n",
       "    .dataframe tbody tr th {\n",
       "        vertical-align: top;\n",
       "    }\n",
       "\n",
       "    .dataframe thead th {\n",
       "        text-align: right;\n",
       "    }\n",
       "</style>\n",
       "<table border=\"1\" class=\"dataframe\">\n",
       "  <thead>\n",
       "    <tr style=\"text-align: right;\">\n",
       "      <th></th>\n",
       "      <th>id</th>\n",
       "      <th>last_scraped</th>\n",
       "      <th>name</th>\n",
       "      <th>summary</th>\n",
       "      <th>space</th>\n",
       "      <th>description</th>\n",
       "      <th>neighborhood_overview</th>\n",
       "      <th>notes</th>\n",
       "      <th>transit</th>\n",
       "      <th>access</th>\n",
       "      <th>...</th>\n",
       "      <th>jurisdiction_names</th>\n",
       "      <th>instant_bookable</th>\n",
       "      <th>cancellation_policy</th>\n",
       "      <th>require_guest_profile_picture</th>\n",
       "      <th>require_guest_phone_verification</th>\n",
       "      <th>calculated_host_listings_count</th>\n",
       "      <th>calculated_host_listings_count_entire_homes</th>\n",
       "      <th>calculated_host_listings_count_private_rooms</th>\n",
       "      <th>calculated_host_listings_count_shared_rooms</th>\n",
       "      <th>reviews_per_month</th>\n",
       "    </tr>\n",
       "  </thead>\n",
       "  <tbody>\n",
       "    <tr>\n",
       "      <th>0</th>\n",
       "      <td>4952</td>\n",
       "      <td>2020-05-30</td>\n",
       "      <td>Butterfly Inn - Graceful Living !</td>\n",
       "      <td>Lovely garden setting in a serene and art-fill...</td>\n",
       "      <td>Very comfortable Queen bed and small desk in b...</td>\n",
       "      <td>Lovely garden setting in a serene and art-fill...</td>\n",
       "      <td>Located in Professorville, Palo Alto, one of t...</td>\n",
       "      <td>Housekeeping every Monday, leave your door ope...</td>\n",
       "      <td>Walking distance to Stanford University (30 mi...</td>\n",
       "      <td>Kitchen, laundry, family/TV room, garden, free...</td>\n",
       "      <td>...</td>\n",
       "      <td>{\"PALO ALTO\"}</td>\n",
       "      <td>f</td>\n",
       "      <td>moderate</td>\n",
       "      <td>f</td>\n",
       "      <td>f</td>\n",
       "      <td>5</td>\n",
       "      <td>0</td>\n",
       "      <td>5</td>\n",
       "      <td>0</td>\n",
       "      <td>0.57</td>\n",
       "    </tr>\n",
       "    <tr>\n",
       "      <th>1</th>\n",
       "      <td>11464</td>\n",
       "      <td>2020-05-31</td>\n",
       "      <td>Deluxe Private Studio-custom int.</td>\n",
       "      <td>Custom built Studio with exquisite design. Rea...</td>\n",
       "      <td>Description A favorite for international corpo...</td>\n",
       "      <td>Custom built Studio with exquisite design. Rea...</td>\n",
       "      <td>10 min. to Lucky's and Starbucks at El Camino ...</td>\n",
       "      <td>Pet Policy: - Well Behaved pet up to 25 lb. of...</td>\n",
       "      <td>Public transportation at Homestead and Pomeroy...</td>\n",
       "      <td>Complimentary Wifi-internet + Basic Cable</td>\n",
       "      <td>...</td>\n",
       "      <td>{\"SANTA CLARA\"}</td>\n",
       "      <td>f</td>\n",
       "      <td>moderate</td>\n",
       "      <td>f</td>\n",
       "      <td>t</td>\n",
       "      <td>12</td>\n",
       "      <td>12</td>\n",
       "      <td>0</td>\n",
       "      <td>0</td>\n",
       "      <td>0.08</td>\n",
       "    </tr>\n",
       "    <tr>\n",
       "      <th>2</th>\n",
       "      <td>17884</td>\n",
       "      <td>2020-05-31</td>\n",
       "      <td>Silicon Valley Suite</td>\n",
       "      <td>A guest suite for one or two, in a house in a ...</td>\n",
       "      <td>This is a private suite at the rear of a house...</td>\n",
       "      <td>A guest suite for one or two, in a house in a ...</td>\n",
       "      <td>This is a very quiet family neighborhood, but ...</td>\n",
       "      <td>I cannot accommodate cats, sorry. I can usuall...</td>\n",
       "      <td>The CalTrain station is in walking distance, a...</td>\n",
       "      <td>Private outdoor patio. Shared washer/dryer on ...</td>\n",
       "      <td>...</td>\n",
       "      <td>{\"Mountain View\",\" CA\"}</td>\n",
       "      <td>f</td>\n",
       "      <td>strict_14_with_grace_period</td>\n",
       "      <td>f</td>\n",
       "      <td>f</td>\n",
       "      <td>2</td>\n",
       "      <td>2</td>\n",
       "      <td>0</td>\n",
       "      <td>0</td>\n",
       "      <td>0.11</td>\n",
       "    </tr>\n",
       "    <tr>\n",
       "      <th>3</th>\n",
       "      <td>21373</td>\n",
       "      <td>2020-05-30</td>\n",
       "      <td>Bonsai Garden Inn in Professorville</td>\n",
       "      <td>Room  in gracious home with beautiful garden. ...</td>\n",
       "      <td>Bright, garden-facing room in beautiful home. ...</td>\n",
       "      <td>Room  in gracious home with beautiful garden. ...</td>\n",
       "      <td>This room is in an ultra convenient location i...</td>\n",
       "      <td>The family room has a flat panel tv and desk f...</td>\n",
       "      <td>The Stanford Shopping Center is 20 minutes wal...</td>\n",
       "      <td>Kitchen, Laundry, Garden, Family Room with TV,...</td>\n",
       "      <td>...</td>\n",
       "      <td>{\"PALO ALTO\"}</td>\n",
       "      <td>f</td>\n",
       "      <td>moderate</td>\n",
       "      <td>f</td>\n",
       "      <td>f</td>\n",
       "      <td>5</td>\n",
       "      <td>0</td>\n",
       "      <td>5</td>\n",
       "      <td>0</td>\n",
       "      <td>2.17</td>\n",
       "    </tr>\n",
       "    <tr>\n",
       "      <th>4</th>\n",
       "      <td>37512</td>\n",
       "      <td>2020-05-31</td>\n",
       "      <td>Private  room - Parking 3 carport</td>\n",
       "      <td>We live in a safe community close to public tr...</td>\n",
       "      <td>I have a really nice room in a quiet neighborh...</td>\n",
       "      <td>We live in a safe community close to public tr...</td>\n",
       "      <td>Our community is a safe environment and at nig...</td>\n",
       "      <td>Please remember that you are in my home and re...</td>\n",
       "      <td>We have a bus stop right outside our community...</td>\n",
       "      <td>The kitchen and all that it offers.  The laund...</td>\n",
       "      <td>...</td>\n",
       "      <td>{\"SAN JOSE\"}</td>\n",
       "      <td>f</td>\n",
       "      <td>moderate</td>\n",
       "      <td>t</td>\n",
       "      <td>t</td>\n",
       "      <td>2</td>\n",
       "      <td>0</td>\n",
       "      <td>2</td>\n",
       "      <td>0</td>\n",
       "      <td>1.53</td>\n",
       "    </tr>\n",
       "  </tbody>\n",
       "</table>\n",
       "<p>5 rows × 86 columns</p>\n",
       "</div>"
      ],
      "text/plain": [
       "      id last_scraped                                 name  \\\n",
       "0   4952   2020-05-30    Butterfly Inn - Graceful Living !   \n",
       "1  11464   2020-05-31    Deluxe Private Studio-custom int.   \n",
       "2  17884   2020-05-31                 Silicon Valley Suite   \n",
       "3  21373   2020-05-30  Bonsai Garden Inn in Professorville   \n",
       "4  37512   2020-05-31    Private  room - Parking 3 carport   \n",
       "\n",
       "                                             summary  \\\n",
       "0  Lovely garden setting in a serene and art-fill...   \n",
       "1  Custom built Studio with exquisite design. Rea...   \n",
       "2  A guest suite for one or two, in a house in a ...   \n",
       "3  Room  in gracious home with beautiful garden. ...   \n",
       "4  We live in a safe community close to public tr...   \n",
       "\n",
       "                                               space  \\\n",
       "0  Very comfortable Queen bed and small desk in b...   \n",
       "1  Description A favorite for international corpo...   \n",
       "2  This is a private suite at the rear of a house...   \n",
       "3  Bright, garden-facing room in beautiful home. ...   \n",
       "4  I have a really nice room in a quiet neighborh...   \n",
       "\n",
       "                                         description  \\\n",
       "0  Lovely garden setting in a serene and art-fill...   \n",
       "1  Custom built Studio with exquisite design. Rea...   \n",
       "2  A guest suite for one or two, in a house in a ...   \n",
       "3  Room  in gracious home with beautiful garden. ...   \n",
       "4  We live in a safe community close to public tr...   \n",
       "\n",
       "                               neighborhood_overview  \\\n",
       "0  Located in Professorville, Palo Alto, one of t...   \n",
       "1  10 min. to Lucky's and Starbucks at El Camino ...   \n",
       "2  This is a very quiet family neighborhood, but ...   \n",
       "3  This room is in an ultra convenient location i...   \n",
       "4  Our community is a safe environment and at nig...   \n",
       "\n",
       "                                               notes  \\\n",
       "0  Housekeeping every Monday, leave your door ope...   \n",
       "1  Pet Policy: - Well Behaved pet up to 25 lb. of...   \n",
       "2  I cannot accommodate cats, sorry. I can usuall...   \n",
       "3  The family room has a flat panel tv and desk f...   \n",
       "4  Please remember that you are in my home and re...   \n",
       "\n",
       "                                             transit  \\\n",
       "0  Walking distance to Stanford University (30 mi...   \n",
       "1  Public transportation at Homestead and Pomeroy...   \n",
       "2  The CalTrain station is in walking distance, a...   \n",
       "3  The Stanford Shopping Center is 20 minutes wal...   \n",
       "4  We have a bus stop right outside our community...   \n",
       "\n",
       "                                              access  ...  \\\n",
       "0  Kitchen, laundry, family/TV room, garden, free...  ...   \n",
       "1          Complimentary Wifi-internet + Basic Cable  ...   \n",
       "2  Private outdoor patio. Shared washer/dryer on ...  ...   \n",
       "3  Kitchen, Laundry, Garden, Family Room with TV,...  ...   \n",
       "4  The kitchen and all that it offers.  The laund...  ...   \n",
       "\n",
       "        jurisdiction_names instant_bookable          cancellation_policy  \\\n",
       "0            {\"PALO ALTO\"}                f                     moderate   \n",
       "1          {\"SANTA CLARA\"}                f                     moderate   \n",
       "2  {\"Mountain View\",\" CA\"}                f  strict_14_with_grace_period   \n",
       "3            {\"PALO ALTO\"}                f                     moderate   \n",
       "4             {\"SAN JOSE\"}                f                     moderate   \n",
       "\n",
       "  require_guest_profile_picture require_guest_phone_verification  \\\n",
       "0                             f                                f   \n",
       "1                             f                                t   \n",
       "2                             f                                f   \n",
       "3                             f                                f   \n",
       "4                             t                                t   \n",
       "\n",
       "  calculated_host_listings_count calculated_host_listings_count_entire_homes  \\\n",
       "0                              5                                           0   \n",
       "1                             12                                          12   \n",
       "2                              2                                           2   \n",
       "3                              5                                           0   \n",
       "4                              2                                           0   \n",
       "\n",
       "  calculated_host_listings_count_private_rooms  \\\n",
       "0                                            5   \n",
       "1                                            0   \n",
       "2                                            0   \n",
       "3                                            5   \n",
       "4                                            2   \n",
       "\n",
       "  calculated_host_listings_count_shared_rooms reviews_per_month  \n",
       "0                                           0              0.57  \n",
       "1                                           0              0.08  \n",
       "2                                           0              0.11  \n",
       "3                                           0              2.17  \n",
       "4                                           0              1.53  \n",
       "\n",
       "[5 rows x 86 columns]"
      ]
     },
     "execution_count": 108,
     "metadata": {},
     "output_type": "execute_result"
    }
   ],
   "source": [
    "data_rev = data.loc[data['id'].isin(rev_row)]\n",
    "data_rev.head()"
   ]
  },
  {
   "cell_type": "code",
   "execution_count": 109,
   "metadata": {},
   "outputs": [
    {
     "name": "stdout",
     "output_type": "stream",
     "text": [
      "<class 'pandas.core.frame.DataFrame'>\n",
      "Int64Index: 5734 entries, 0 to 7214\n",
      "Data columns (total 86 columns):\n",
      " #   Column                                        Non-Null Count  Dtype  \n",
      "---  ------                                        --------------  -----  \n",
      " 0   id                                            5734 non-null   int64  \n",
      " 1   last_scraped                                  5734 non-null   object \n",
      " 2   name                                          5734 non-null   object \n",
      " 3   summary                                       5563 non-null   object \n",
      " 4   space                                         4571 non-null   object \n",
      " 5   description                                   5606 non-null   object \n",
      " 6   neighborhood_overview                         3884 non-null   object \n",
      " 7   notes                                         3191 non-null   object \n",
      " 8   transit                                       3618 non-null   object \n",
      " 9   access                                        3642 non-null   object \n",
      " 10  interaction                                   3640 non-null   object \n",
      " 11  house_rules                                   4196 non-null   object \n",
      " 12  host_id                                       5734 non-null   int64  \n",
      " 13  host_name                                     5733 non-null   object \n",
      " 14  host_since                                    5733 non-null   object \n",
      " 15  host_location                                 5721 non-null   object \n",
      " 16  host_about                                    4050 non-null   object \n",
      " 17  host_response_time                            4470 non-null   object \n",
      " 18  host_response_rate                            4470 non-null   object \n",
      " 19  host_acceptance_rate                          5419 non-null   object \n",
      " 20  host_is_superhost                             5733 non-null   object \n",
      " 21  host_neighbourhood                            4859 non-null   object \n",
      " 22  host_listings_count                           5733 non-null   float64\n",
      " 23  host_total_listings_count                     5733 non-null   float64\n",
      " 24  host_verifications                            5734 non-null   object \n",
      " 25  host_has_profile_pic                          5733 non-null   object \n",
      " 26  host_identity_verified                        5733 non-null   object \n",
      " 27  street                                        5734 non-null   object \n",
      " 28  neighbourhood                                 5365 non-null   object \n",
      " 29  neighbourhood_cleansed                        5734 non-null   object \n",
      " 30  city                                          5733 non-null   object \n",
      " 31  state                                         5733 non-null   object \n",
      " 32  zipcode                                       5690 non-null   object \n",
      " 33  market                                        5725 non-null   object \n",
      " 34  smart_location                                5734 non-null   object \n",
      " 35  latitude                                      5734 non-null   float64\n",
      " 36  longitude                                     5734 non-null   float64\n",
      " 37  is_location_exact                             5734 non-null   object \n",
      " 38  property_type                                 5734 non-null   object \n",
      " 39  room_type                                     5734 non-null   object \n",
      " 40  accommodates                                  5734 non-null   int64  \n",
      " 41  bathrooms                                     5734 non-null   float64\n",
      " 42  bedrooms                                      5729 non-null   float64\n",
      " 43  beds                                          5707 non-null   float64\n",
      " 44  bed_type                                      5734 non-null   object \n",
      " 45  amenities                                     5734 non-null   object \n",
      " 46  price                                         5734 non-null   object \n",
      " 47  security_deposit                              4822 non-null   object \n",
      " 48  cleaning_fee                                  5337 non-null   object \n",
      " 49  guests_included                               5734 non-null   int64  \n",
      " 50  extra_people                                  5734 non-null   object \n",
      " 51  minimum_nights                                5734 non-null   int64  \n",
      " 52  maximum_nights                                5734 non-null   int64  \n",
      " 53  minimum_minimum_nights                        5734 non-null   int64  \n",
      " 54  maximum_minimum_nights                        5734 non-null   int64  \n",
      " 55  minimum_maximum_nights                        5734 non-null   int64  \n",
      " 56  maximum_maximum_nights                        5734 non-null   int64  \n",
      " 57  minimum_nights_avg_ntm                        5734 non-null   float64\n",
      " 58  maximum_nights_avg_ntm                        5734 non-null   float64\n",
      " 59  calendar_updated                              5734 non-null   object \n",
      " 60  availability_30                               5734 non-null   int64  \n",
      " 61  availability_60                               5734 non-null   int64  \n",
      " 62  availability_90                               5734 non-null   int64  \n",
      " 63  availability_365                              5734 non-null   int64  \n",
      " 64  calendar_last_scraped                         5734 non-null   object \n",
      " 65  number_of_reviews                             5734 non-null   int64  \n",
      " 66  number_of_reviews_ltm                         5734 non-null   int64  \n",
      " 67  first_review                                  5707 non-null   object \n",
      " 68  last_review                                   5707 non-null   object \n",
      " 69  review_scores_rating                          5651 non-null   float64\n",
      " 70  review_scores_accuracy                        5649 non-null   float64\n",
      " 71  review_scores_cleanliness                     5649 non-null   float64\n",
      " 72  review_scores_checkin                         5648 non-null   float64\n",
      " 73  review_scores_communication                   5649 non-null   float64\n",
      " 74  review_scores_location                        5648 non-null   float64\n",
      " 75  review_scores_value                           5648 non-null   float64\n",
      " 76  jurisdiction_names                            5006 non-null   object \n",
      " 77  instant_bookable                              5734 non-null   object \n",
      " 78  cancellation_policy                           5734 non-null   object \n",
      " 79  require_guest_profile_picture                 5734 non-null   object \n",
      " 80  require_guest_phone_verification              5734 non-null   object \n",
      " 81  calculated_host_listings_count                5734 non-null   int64  \n",
      " 82  calculated_host_listings_count_entire_homes   5734 non-null   int64  \n",
      " 83  calculated_host_listings_count_private_rooms  5734 non-null   int64  \n",
      " 84  calculated_host_listings_count_shared_rooms   5734 non-null   int64  \n",
      " 85  reviews_per_month                             5707 non-null   float64\n",
      "dtypes: float64(17), int64(20), object(49)\n",
      "memory usage: 3.8+ MB\n"
     ]
    }
   ],
   "source": [
    "data_rev.info()"
   ]
  },
  {
   "cell_type": "code",
   "execution_count": 110,
   "metadata": {},
   "outputs": [
    {
     "data": {
      "text/html": [
       "<div>\n",
       "<style scoped>\n",
       "    .dataframe tbody tr th:only-of-type {\n",
       "        vertical-align: middle;\n",
       "    }\n",
       "\n",
       "    .dataframe tbody tr th {\n",
       "        vertical-align: top;\n",
       "    }\n",
       "\n",
       "    .dataframe thead th {\n",
       "        text-align: right;\n",
       "    }\n",
       "</style>\n",
       "<table border=\"1\" class=\"dataframe\">\n",
       "  <thead>\n",
       "    <tr style=\"text-align: right;\">\n",
       "      <th></th>\n",
       "      <th>id</th>\n",
       "      <th>host_id</th>\n",
       "      <th>host_listings_count</th>\n",
       "      <th>host_total_listings_count</th>\n",
       "      <th>latitude</th>\n",
       "      <th>longitude</th>\n",
       "      <th>accommodates</th>\n",
       "      <th>bathrooms</th>\n",
       "      <th>bedrooms</th>\n",
       "      <th>beds</th>\n",
       "      <th>...</th>\n",
       "      <th>review_scores_cleanliness</th>\n",
       "      <th>review_scores_checkin</th>\n",
       "      <th>review_scores_communication</th>\n",
       "      <th>review_scores_location</th>\n",
       "      <th>review_scores_value</th>\n",
       "      <th>calculated_host_listings_count</th>\n",
       "      <th>calculated_host_listings_count_entire_homes</th>\n",
       "      <th>calculated_host_listings_count_private_rooms</th>\n",
       "      <th>calculated_host_listings_count_shared_rooms</th>\n",
       "      <th>reviews_per_month</th>\n",
       "    </tr>\n",
       "  </thead>\n",
       "  <tbody>\n",
       "    <tr>\n",
       "      <th>count</th>\n",
       "      <td>5.734000e+03</td>\n",
       "      <td>5.734000e+03</td>\n",
       "      <td>5733.000000</td>\n",
       "      <td>5733.000000</td>\n",
       "      <td>5734.000000</td>\n",
       "      <td>5734.000000</td>\n",
       "      <td>5734.000000</td>\n",
       "      <td>5734.000000</td>\n",
       "      <td>5729.000000</td>\n",
       "      <td>5707.000000</td>\n",
       "      <td>...</td>\n",
       "      <td>5649.000000</td>\n",
       "      <td>5648.000000</td>\n",
       "      <td>5649.000000</td>\n",
       "      <td>5648.000000</td>\n",
       "      <td>5648.000000</td>\n",
       "      <td>5734.00000</td>\n",
       "      <td>5734.000000</td>\n",
       "      <td>5734.000000</td>\n",
       "      <td>5734.000000</td>\n",
       "      <td>5707.000000</td>\n",
       "    </tr>\n",
       "    <tr>\n",
       "      <th>mean</th>\n",
       "      <td>2.461825e+07</td>\n",
       "      <td>8.428594e+07</td>\n",
       "      <td>102.008373</td>\n",
       "      <td>102.008373</td>\n",
       "      <td>37.352121</td>\n",
       "      <td>-121.966650</td>\n",
       "      <td>3.115452</td>\n",
       "      <td>1.371992</td>\n",
       "      <td>1.400768</td>\n",
       "      <td>1.816015</td>\n",
       "      <td>...</td>\n",
       "      <td>9.580457</td>\n",
       "      <td>9.818520</td>\n",
       "      <td>9.796955</td>\n",
       "      <td>9.797805</td>\n",
       "      <td>9.531339</td>\n",
       "      <td>26.45361</td>\n",
       "      <td>22.485699</td>\n",
       "      <td>2.877224</td>\n",
       "      <td>1.058598</td>\n",
       "      <td>1.359872</td>\n",
       "    </tr>\n",
       "    <tr>\n",
       "      <th>std</th>\n",
       "      <td>1.209688e+07</td>\n",
       "      <td>9.037814e+07</td>\n",
       "      <td>405.285405</td>\n",
       "      <td>405.285405</td>\n",
       "      <td>0.065509</td>\n",
       "      <td>0.109539</td>\n",
       "      <td>2.365797</td>\n",
       "      <td>0.678344</td>\n",
       "      <td>0.981305</td>\n",
       "      <td>1.535468</td>\n",
       "      <td>...</td>\n",
       "      <td>0.848019</td>\n",
       "      <td>0.643308</td>\n",
       "      <td>0.691166</td>\n",
       "      <td>0.584477</td>\n",
       "      <td>0.837670</td>\n",
       "      <td>83.43773</td>\n",
       "      <td>83.821405</td>\n",
       "      <td>6.912066</td>\n",
       "      <td>5.849206</td>\n",
       "      <td>1.535631</td>\n",
       "    </tr>\n",
       "    <tr>\n",
       "      <th>min</th>\n",
       "      <td>4.952000e+03</td>\n",
       "      <td>7.054000e+03</td>\n",
       "      <td>0.000000</td>\n",
       "      <td>0.000000</td>\n",
       "      <td>36.965600</td>\n",
       "      <td>-122.188680</td>\n",
       "      <td>1.000000</td>\n",
       "      <td>0.000000</td>\n",
       "      <td>0.000000</td>\n",
       "      <td>0.000000</td>\n",
       "      <td>...</td>\n",
       "      <td>2.000000</td>\n",
       "      <td>2.000000</td>\n",
       "      <td>2.000000</td>\n",
       "      <td>2.000000</td>\n",
       "      <td>2.000000</td>\n",
       "      <td>1.00000</td>\n",
       "      <td>0.000000</td>\n",
       "      <td>0.000000</td>\n",
       "      <td>0.000000</td>\n",
       "      <td>0.010000</td>\n",
       "    </tr>\n",
       "    <tr>\n",
       "      <th>25%</th>\n",
       "      <td>1.489002e+07</td>\n",
       "      <td>1.480914e+07</td>\n",
       "      <td>1.000000</td>\n",
       "      <td>1.000000</td>\n",
       "      <td>37.320290</td>\n",
       "      <td>-122.043607</td>\n",
       "      <td>2.000000</td>\n",
       "      <td>1.000000</td>\n",
       "      <td>1.000000</td>\n",
       "      <td>1.000000</td>\n",
       "      <td>...</td>\n",
       "      <td>9.000000</td>\n",
       "      <td>10.000000</td>\n",
       "      <td>10.000000</td>\n",
       "      <td>10.000000</td>\n",
       "      <td>9.000000</td>\n",
       "      <td>1.00000</td>\n",
       "      <td>0.000000</td>\n",
       "      <td>0.000000</td>\n",
       "      <td>0.000000</td>\n",
       "      <td>0.320000</td>\n",
       "    </tr>\n",
       "    <tr>\n",
       "      <th>50%</th>\n",
       "      <td>2.598272e+07</td>\n",
       "      <td>4.800549e+07</td>\n",
       "      <td>3.000000</td>\n",
       "      <td>3.000000</td>\n",
       "      <td>37.357740</td>\n",
       "      <td>-121.961940</td>\n",
       "      <td>2.000000</td>\n",
       "      <td>1.000000</td>\n",
       "      <td>1.000000</td>\n",
       "      <td>1.000000</td>\n",
       "      <td>...</td>\n",
       "      <td>10.000000</td>\n",
       "      <td>10.000000</td>\n",
       "      <td>10.000000</td>\n",
       "      <td>10.000000</td>\n",
       "      <td>10.000000</td>\n",
       "      <td>3.00000</td>\n",
       "      <td>1.000000</td>\n",
       "      <td>1.000000</td>\n",
       "      <td>0.000000</td>\n",
       "      <td>0.830000</td>\n",
       "    </tr>\n",
       "    <tr>\n",
       "      <th>75%</th>\n",
       "      <td>3.500704e+07</td>\n",
       "      <td>1.351438e+08</td>\n",
       "      <td>9.000000</td>\n",
       "      <td>9.000000</td>\n",
       "      <td>37.398320</td>\n",
       "      <td>-121.886337</td>\n",
       "      <td>4.000000</td>\n",
       "      <td>1.500000</td>\n",
       "      <td>2.000000</td>\n",
       "      <td>2.000000</td>\n",
       "      <td>...</td>\n",
       "      <td>10.000000</td>\n",
       "      <td>10.000000</td>\n",
       "      <td>10.000000</td>\n",
       "      <td>10.000000</td>\n",
       "      <td>10.000000</td>\n",
       "      <td>8.00000</td>\n",
       "      <td>2.000000</td>\n",
       "      <td>3.000000</td>\n",
       "      <td>0.000000</td>\n",
       "      <td>1.810000</td>\n",
       "    </tr>\n",
       "    <tr>\n",
       "      <th>max</th>\n",
       "      <td>4.356033e+07</td>\n",
       "      <td>3.477372e+08</td>\n",
       "      <td>2007.000000</td>\n",
       "      <td>2007.000000</td>\n",
       "      <td>37.462740</td>\n",
       "      <td>-121.380120</td>\n",
       "      <td>16.000000</td>\n",
       "      <td>8.000000</td>\n",
       "      <td>9.000000</td>\n",
       "      <td>26.000000</td>\n",
       "      <td>...</td>\n",
       "      <td>10.000000</td>\n",
       "      <td>10.000000</td>\n",
       "      <td>10.000000</td>\n",
       "      <td>10.000000</td>\n",
       "      <td>10.000000</td>\n",
       "      <td>411.00000</td>\n",
       "      <td>411.000000</td>\n",
       "      <td>62.000000</td>\n",
       "      <td>48.000000</td>\n",
       "      <td>13.120000</td>\n",
       "    </tr>\n",
       "  </tbody>\n",
       "</table>\n",
       "<p>8 rows × 37 columns</p>\n",
       "</div>"
      ],
      "text/plain": [
       "                 id       host_id  host_listings_count  \\\n",
       "count  5.734000e+03  5.734000e+03          5733.000000   \n",
       "mean   2.461825e+07  8.428594e+07           102.008373   \n",
       "std    1.209688e+07  9.037814e+07           405.285405   \n",
       "min    4.952000e+03  7.054000e+03             0.000000   \n",
       "25%    1.489002e+07  1.480914e+07             1.000000   \n",
       "50%    2.598272e+07  4.800549e+07             3.000000   \n",
       "75%    3.500704e+07  1.351438e+08             9.000000   \n",
       "max    4.356033e+07  3.477372e+08          2007.000000   \n",
       "\n",
       "       host_total_listings_count     latitude    longitude  accommodates  \\\n",
       "count                5733.000000  5734.000000  5734.000000   5734.000000   \n",
       "mean                  102.008373    37.352121  -121.966650      3.115452   \n",
       "std                   405.285405     0.065509     0.109539      2.365797   \n",
       "min                     0.000000    36.965600  -122.188680      1.000000   \n",
       "25%                     1.000000    37.320290  -122.043607      2.000000   \n",
       "50%                     3.000000    37.357740  -121.961940      2.000000   \n",
       "75%                     9.000000    37.398320  -121.886337      4.000000   \n",
       "max                  2007.000000    37.462740  -121.380120     16.000000   \n",
       "\n",
       "         bathrooms     bedrooms         beds  ...  review_scores_cleanliness  \\\n",
       "count  5734.000000  5729.000000  5707.000000  ...                5649.000000   \n",
       "mean      1.371992     1.400768     1.816015  ...                   9.580457   \n",
       "std       0.678344     0.981305     1.535468  ...                   0.848019   \n",
       "min       0.000000     0.000000     0.000000  ...                   2.000000   \n",
       "25%       1.000000     1.000000     1.000000  ...                   9.000000   \n",
       "50%       1.000000     1.000000     1.000000  ...                  10.000000   \n",
       "75%       1.500000     2.000000     2.000000  ...                  10.000000   \n",
       "max       8.000000     9.000000    26.000000  ...                  10.000000   \n",
       "\n",
       "       review_scores_checkin  review_scores_communication  \\\n",
       "count            5648.000000                  5649.000000   \n",
       "mean                9.818520                     9.796955   \n",
       "std                 0.643308                     0.691166   \n",
       "min                 2.000000                     2.000000   \n",
       "25%                10.000000                    10.000000   \n",
       "50%                10.000000                    10.000000   \n",
       "75%                10.000000                    10.000000   \n",
       "max                10.000000                    10.000000   \n",
       "\n",
       "       review_scores_location  review_scores_value  \\\n",
       "count             5648.000000          5648.000000   \n",
       "mean                 9.797805             9.531339   \n",
       "std                  0.584477             0.837670   \n",
       "min                  2.000000             2.000000   \n",
       "25%                 10.000000             9.000000   \n",
       "50%                 10.000000            10.000000   \n",
       "75%                 10.000000            10.000000   \n",
       "max                 10.000000            10.000000   \n",
       "\n",
       "       calculated_host_listings_count  \\\n",
       "count                      5734.00000   \n",
       "mean                         26.45361   \n",
       "std                          83.43773   \n",
       "min                           1.00000   \n",
       "25%                           1.00000   \n",
       "50%                           3.00000   \n",
       "75%                           8.00000   \n",
       "max                         411.00000   \n",
       "\n",
       "       calculated_host_listings_count_entire_homes  \\\n",
       "count                                  5734.000000   \n",
       "mean                                     22.485699   \n",
       "std                                      83.821405   \n",
       "min                                       0.000000   \n",
       "25%                                       0.000000   \n",
       "50%                                       1.000000   \n",
       "75%                                       2.000000   \n",
       "max                                     411.000000   \n",
       "\n",
       "       calculated_host_listings_count_private_rooms  \\\n",
       "count                                   5734.000000   \n",
       "mean                                       2.877224   \n",
       "std                                        6.912066   \n",
       "min                                        0.000000   \n",
       "25%                                        0.000000   \n",
       "50%                                        1.000000   \n",
       "75%                                        3.000000   \n",
       "max                                       62.000000   \n",
       "\n",
       "       calculated_host_listings_count_shared_rooms  reviews_per_month  \n",
       "count                                  5734.000000        5707.000000  \n",
       "mean                                      1.058598           1.359872  \n",
       "std                                       5.849206           1.535631  \n",
       "min                                       0.000000           0.010000  \n",
       "25%                                       0.000000           0.320000  \n",
       "50%                                       0.000000           0.830000  \n",
       "75%                                       0.000000           1.810000  \n",
       "max                                      48.000000          13.120000  \n",
       "\n",
       "[8 rows x 37 columns]"
      ]
     },
     "execution_count": 110,
     "metadata": {},
     "output_type": "execute_result"
    }
   ],
   "source": [
    "data_rev.describe()"
   ]
  },
  {
   "cell_type": "code",
   "execution_count": 111,
   "metadata": {},
   "outputs": [],
   "source": [
    "counts = reviews['listing_id'].value_counts()\n"
   ]
  },
  {
   "cell_type": "code",
   "execution_count": 112,
   "metadata": {},
   "outputs": [
    {
     "data": {
      "text/plain": [
       "7476637     489\n",
       "52786       478\n",
       "10814836    445\n",
       "19641513    429\n",
       "13828514    427\n",
       "Name: listing_id, dtype: int64"
      ]
     },
     "execution_count": 112,
     "metadata": {},
     "output_type": "execute_result"
    }
   ],
   "source": [
    "counts.head()"
   ]
  },
  {
   "cell_type": "markdown",
   "metadata": {},
   "source": [
    "## Fusion with neighborhood data"
   ]
  },
  {
   "cell_type": "code",
   "execution_count": 113,
   "metadata": {},
   "outputs": [],
   "source": [
    "data_neighbor = data['neighbourhood'].unique().tolist()\n",
    "neighbors_hood = neighbors['neighbourhood'].unique().tolist()"
   ]
  },
  {
   "cell_type": "code",
   "execution_count": 114,
   "metadata": {},
   "outputs": [],
   "source": [
    "same_locations = []\n",
    "\n",
    "for neighbor in neighbors_hood:\n",
    "    if neighbor in data_neighbor:\n",
    "        same_locations.append(neighbor)"
   ]
  },
  {
   "cell_type": "code",
   "execution_count": 115,
   "metadata": {},
   "outputs": [
    {
     "data": {
      "text/plain": [
       "['Campbell',\n",
       " 'Cupertino',\n",
       " 'Los Altos',\n",
       " 'Los Altos Hills',\n",
       " 'Mountain View',\n",
       " 'Palo Alto',\n",
       " 'Santa Clara',\n",
       " 'Sunnyvale']"
      ]
     },
     "execution_count": 115,
     "metadata": {},
     "output_type": "execute_result"
    }
   ],
   "source": [
    "same_locations"
   ]
  },
  {
   "cell_type": "code",
   "execution_count": 116,
   "metadata": {},
   "outputs": [
    {
     "data": {
      "text/plain": [
       "['Palo Alto',\n",
       " 'Santa Clara',\n",
       " 'Mountain View',\n",
       " 'South San Jose',\n",
       " 'Cupertino',\n",
       " 'Sunnyvale',\n",
       " 'Downtown',\n",
       " 'Campbell',\n",
       " 'West Valley',\n",
       " 'Edenvale',\n",
       " nan,\n",
       " 'Willow Glen',\n",
       " 'Central San Jose',\n",
       " 'Los Altos',\n",
       " 'Berryessa',\n",
       " 'Cory',\n",
       " 'College Park',\n",
       " 'Alum Rock',\n",
       " 'Cambrian/Pioneer',\n",
       " 'North San Jose',\n",
       " 'Los Altos Hills',\n",
       " 'Burbank/Del Monte',\n",
       " 'Evergreen',\n",
       " 'Newhall/Sherwood',\n",
       " 'Shasta/Hanchett Park',\n",
       " 'Rose Garden',\n",
       " 'Five Wounds/Brookwood Terrace',\n",
       " 'Naglee Park',\n",
       " 'Forest/Pruneridge',\n",
       " 'Alviso',\n",
       " 'Japantown',\n",
       " 'Stanford',\n",
       " 'Delmas Park',\n",
       " 'Chapman/Morse',\n",
       " 'Menlo Park',\n",
       " 'Autumn/Montgomery',\n",
       " 'Vermont/McKendrie']"
      ]
     },
     "execution_count": 116,
     "metadata": {},
     "output_type": "execute_result"
    }
   ],
   "source": [
    "data_neighbor"
   ]
  },
  {
   "cell_type": "code",
   "execution_count": 117,
   "metadata": {},
   "outputs": [
    {
     "data": {
      "text/plain": [
       "['Campbell',\n",
       " 'Cupertino',\n",
       " 'Gilroy',\n",
       " 'Los Altos',\n",
       " 'Los Altos Hills',\n",
       " 'Los Gatos',\n",
       " 'Milpitas',\n",
       " 'Monte Sereno',\n",
       " 'Morgan Hill',\n",
       " 'Mountain View',\n",
       " 'Palo Alto',\n",
       " 'San Jose',\n",
       " 'Santa Clara',\n",
       " 'Saratoga',\n",
       " 'Sunnyvale',\n",
       " 'Unincorporated Areas']"
      ]
     },
     "execution_count": 117,
     "metadata": {},
     "output_type": "execute_result"
    }
   ],
   "source": [
    "neighbors_hood"
   ]
  },
  {
   "cell_type": "code",
   "execution_count": null,
   "metadata": {},
   "outputs": [],
   "source": []
  },
  {
   "cell_type": "code",
   "execution_count": null,
   "metadata": {},
   "outputs": [],
   "source": []
  }
 ],
 "metadata": {
  "interpreter": {
   "hash": "daabc12b7e82262630a7e373b09e73b659ba21f5700e5baa669a48eb8260a031"
  },
  "kernelspec": {
   "display_name": "Python 3.9.9 64-bit ('p39': conda)",
   "language": "python",
   "name": "python3"
  },
  "language_info": {
   "codemirror_mode": {
    "name": "ipython",
    "version": 3
   },
   "file_extension": ".py",
   "mimetype": "text/x-python",
   "name": "python",
   "nbconvert_exporter": "python",
   "pygments_lexer": "ipython3",
   "version": "3.9.9"
  },
  "orig_nbformat": 4
 },
 "nbformat": 4,
 "nbformat_minor": 2
}
