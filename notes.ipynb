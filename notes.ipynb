{
 "cells": [
  {
   "cell_type": "code",
   "execution_count": 2,
   "metadata": {},
   "outputs": [],
   "source": [
    "import matplotlib.pyplot as plt\n",
    "import numpy as np\n",
    "from sklearn.preprocessing import Normalizer, StandardScaler, MinMaxScaler, MaxAbsScaler, RobustScaler"
   ]
  },
  {
   "cell_type": "code",
   "execution_count": null,
   "metadata": {},
   "outputs": [],
   "source": []
  },
  {
   "cell_type": "markdown",
   "metadata": {},
   "source": [
    "#### `Feature_df`"
   ]
  },
  {
   "cell_type": "code",
   "execution_count": null,
   "metadata": {},
   "outputs": [],
   "source": [
    "feature_df = data[['id', 'name']]\n",
    "\n",
    "feature_df['host_response_in_1_hour'] = data['host_response_time'].apply(\n",
    "    lambda x: 1 if x == 'within an hour' else 0)\n",
    "feature_df['host_response_rate100'] = data['host_response_rate'].apply(\n",
    "    lambda x: int(x == '100%') if isinstance(x, str) else 0)\n",
    "feature_df['host_acceptance_rate100'] = data['host_acceptance_rate'].apply(\n",
    "    lambda x: int(x == '100%') if isinstance(x, str) else 0)\n",
    "feature_df['host_is_superhost'] = data['host_is_superhost'].apply(\n",
    "    lambda x: int(x == 't') if isinstance(x, str) else 0)\n",
    "feature_df['host_identity_verified'] = data['host_identity_verified'].apply(\n",
    "    lambda x: int(x == 't') if isinstance(x, str) else 0)\n",
    "feature_df['room_type_private_room'] = data['room_type'].apply(\n",
    "    lambda x: int(x == 'Private room') if isinstance(x, str) else 0)\n",
    "feature_df['room_type_entire_home'] = data['room_type'].apply(\n",
    "    lambda x: int(x == 'Entire home/apt') if isinstance(x, str) else 0)\n",
    "feature_df['charge_extra_people_fee'] = data['extra_people'].apply(\n",
    "    lambda x: int(x != '$0.00') if isinstance(x, str) else 0)\n",
    "\n",
    "feature_df['cancellation_policy_flexible'] = data['cancellation_policy'].apply(\n",
    "    lambda x: int(x == 'flexible') if isinstance(x, str) else 0)\n",
    "feature_df['cancellation_policy_moderate'] = data['cancellation_policy'].apply(\n",
    "    lambda x: int(x == 'moderate') if isinstance(x, str) else 0)\n",
    "feature_df['cancellation_policy_strict'] = data['cancellation_policy'].apply(\n",
    "    lambda x: int(x == 'strict_14_with_grace_period')\n",
    "    if isinstance(x, str) else 0)\n",
    "feature_df['instant_bookable'] = data['instant_bookable'].apply(\n",
    "    lambda x: int(x == 't') if isinstance(x, str) else 0)"
   ]
  },
  {
   "cell_type": "code",
   "execution_count": null,
   "metadata": {},
   "outputs": [],
   "source": []
  },
  {
   "cell_type": "code",
   "execution_count": null,
   "metadata": {},
   "outputs": [],
   "source": []
  },
  {
   "cell_type": "code",
   "execution_count": null,
   "metadata": {},
   "outputs": [],
   "source": []
  },
  {
   "cell_type": "code",
   "execution_count": 3,
   "metadata": {},
   "outputs": [],
   "source": [
    "np.random.seed(42)\n",
    "height = np.random.normal(loc=170, scale=5, size=1000).reshape(-1, 1)\n",
    "weight = np.random.normal(loc=60, scale=10, size=1000).reshape(-1, 1)\n",
    "\n",
    "test_arr = np.concatenate((height, weight), axis=1)\n",
    "\n",
    "std_sca = StandardScaler()\n",
    "mm_sca = MinMaxScaler()\n",
    "ma_sca = MaxAbsScaler()\n",
    "nor_sca = Normalizer()\n",
    "rbt_sca = RobustScaler()\n",
    "\n",
    "test_nor = nor_sca.fit_transform(test_arr)\n",
    "test_ma = ma_sca.fit_transform(test_arr)\n",
    "test_mm = mm_sca.fit_transform(test_arr)\n",
    "test_std = std_sca.fit_transform(test_arr)\n",
    "test_rbt = rbt_sca.fit_transform(test_arr)"
   ]
  },
  {
   "cell_type": "code",
   "execution_count": 4,
   "metadata": {},
   "outputs": [
    {
     "data": {
      "image/png": "[encoded data removed]",
      "text/plain": [
       "<Figure size 720x576 with 6 Axes>"
      ]
     },
     "metadata": {
      "needs_background": "light"
     },
     "output_type": "display_data"
    }
   ],
   "source": [
    "_, axes = plt.subplots(3, 2, figsize=(10, 8), constrained_layout=True)\n",
    "\n",
    "titles = [\n",
    "    'Original Array', 'After Unit Normalization',\n",
    "    'After Min-Max Normalization', 'After Max-Abs Normalization',\n",
    "    'After Standardization', 'After Robust Normalization'\n",
    "]\n",
    "\n",
    "for (ind, array), ax in zip(\n",
    "        enumerate([test_arr, test_nor, test_mm, test_ma, test_std, test_rbt]),\n",
    "        axes.flatten()):\n",
    "\n",
    "    ax.hist(array[:, 0:1], bins=50, alpha=0.8, label='height')\n",
    "    ax.hist(array[:, 1:2], bins=50, alpha=0.8, label='weight')\n",
    "\n",
    "    ax.set(title=f'{titles[ind]}')\n",
    "\n",
    "    ax.legend()\n",
    "    plt.show()"
   ]
  },
  {
   "cell_type": "code",
   "execution_count": null,
   "metadata": {},
   "outputs": [],
   "source": []
  },
  {
   "cell_type": "code",
   "execution_count": null,
   "metadata": {},
   "outputs": [],
   "source": []
  },
  {
   "cell_type": "code",
   "execution_count": null,
   "metadata": {},
   "outputs": [],
   "source": []
  },
  {
   "cell_type": "code",
   "execution_count": null,
   "metadata": {},
   "outputs": [],
   "source": []
  }
 ],
 "metadata": {
  "interpreter": {
   "hash": "daabc12b7e82262630a7e373b09e73b659ba21f5700e5baa669a48eb8260a031"
  },
  "kernelspec": {
   "display_name": "Python 3.9.9 64-bit ('p39': conda)",
   "language": "python",
   "name": "python3"
  },
  "language_info": {
   "codemirror_mode": {
    "name": "ipython",
    "version": 3
   },
   "file_extension": ".py",
   "mimetype": "text/x-python",
   "name": "python",
   "nbconvert_exporter": "python",
   "pygments_lexer": "ipython3",
   "version": "3.9.9"
  },
  "orig_nbformat": 4
 },
 "nbformat": 4,
 "nbformat_minor": 2
}
